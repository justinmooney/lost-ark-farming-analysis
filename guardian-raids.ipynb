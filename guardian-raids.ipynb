{
 "cells": [
  {
   "cell_type": "code",
   "execution_count": 57,
   "metadata": {},
   "outputs": [],
   "source": [
    "import pandas as pd\n",
    "import seaborn as sb"
   ]
  },
  {
   "cell_type": "markdown",
   "metadata": {},
   "source": [
    "# Guardian Raids\n",
    "Normal vs rested"
   ]
  },
  {
   "cell_type": "code",
   "execution_count": 58,
   "metadata": {},
   "outputs": [],
   "source": [
    "gr_history = pd.read_csv('histories/gr.csv')"
   ]
  },
  {
   "cell_type": "code",
   "execution_count": 59,
   "metadata": {},
   "outputs": [
    {
     "data": {
      "text/html": [
       "<div>\n",
       "<style scoped>\n",
       "    .dataframe tbody tr th:only-of-type {\n",
       "        vertical-align: middle;\n",
       "    }\n",
       "\n",
       "    .dataframe tbody tr th {\n",
       "        vertical-align: top;\n",
       "    }\n",
       "\n",
       "    .dataframe thead th {\n",
       "        text-align: right;\n",
       "    }\n",
       "</style>\n",
       "<table border=\"1\" class=\"dataframe\">\n",
       "  <thead>\n",
       "    <tr style=\"text-align: right;\">\n",
       "      <th></th>\n",
       "      <th>timestamp</th>\n",
       "      <th>character</th>\n",
       "      <th>ilvl</th>\n",
       "      <th>boss</th>\n",
       "      <th>at_level</th>\n",
       "      <th>rested</th>\n",
       "      <th>first_time</th>\n",
       "      <th>red</th>\n",
       "      <th>blue</th>\n",
       "      <th>stones</th>\n",
       "    </tr>\n",
       "  </thead>\n",
       "  <tbody>\n",
       "    <tr>\n",
       "      <th>0</th>\n",
       "      <td>2022-04-14-20:52:33</td>\n",
       "      <td>Jazzercist</td>\n",
       "      <td>1334</td>\n",
       "      <td>Armored Nacrasena</td>\n",
       "      <td>True</td>\n",
       "      <td>False</td>\n",
       "      <td>False</td>\n",
       "      <td>22</td>\n",
       "      <td>69</td>\n",
       "      <td>2</td>\n",
       "    </tr>\n",
       "    <tr>\n",
       "      <th>1</th>\n",
       "      <td>2022-04-15-09:45:28</td>\n",
       "      <td>Jazzercist</td>\n",
       "      <td>1340</td>\n",
       "      <td>Igrexion</td>\n",
       "      <td>True</td>\n",
       "      <td>False</td>\n",
       "      <td>True</td>\n",
       "      <td>54</td>\n",
       "      <td>171</td>\n",
       "      <td>7</td>\n",
       "    </tr>\n",
       "    <tr>\n",
       "      <th>2</th>\n",
       "      <td>2022-04-15-09:53:15</td>\n",
       "      <td>Jazzercist</td>\n",
       "      <td>1340</td>\n",
       "      <td>Igrexion</td>\n",
       "      <td>True</td>\n",
       "      <td>False</td>\n",
       "      <td>False</td>\n",
       "      <td>30</td>\n",
       "      <td>77</td>\n",
       "      <td>5</td>\n",
       "    </tr>\n",
       "    <tr>\n",
       "      <th>3</th>\n",
       "      <td>2022-04-15-11:31:46</td>\n",
       "      <td>Derplearning</td>\n",
       "      <td>1309</td>\n",
       "      <td>Armored Nacrasena</td>\n",
       "      <td>True</td>\n",
       "      <td>True</td>\n",
       "      <td>False</td>\n",
       "      <td>43</td>\n",
       "      <td>130</td>\n",
       "      <td>5</td>\n",
       "    </tr>\n",
       "    <tr>\n",
       "      <th>4</th>\n",
       "      <td>2022-04-15-11:39:16</td>\n",
       "      <td>Derplearning</td>\n",
       "      <td>1309</td>\n",
       "      <td>Armored Nacrasena</td>\n",
       "      <td>True</td>\n",
       "      <td>False</td>\n",
       "      <td>False</td>\n",
       "      <td>23</td>\n",
       "      <td>69</td>\n",
       "      <td>3</td>\n",
       "    </tr>\n",
       "    <tr>\n",
       "      <th>...</th>\n",
       "      <td>...</td>\n",
       "      <td>...</td>\n",
       "      <td>...</td>\n",
       "      <td>...</td>\n",
       "      <td>...</td>\n",
       "      <td>...</td>\n",
       "      <td>...</td>\n",
       "      <td>...</td>\n",
       "      <td>...</td>\n",
       "      <td>...</td>\n",
       "    </tr>\n",
       "    <tr>\n",
       "      <th>56</th>\n",
       "      <td>2022-05-02-10:14:13</td>\n",
       "      <td>Trif</td>\n",
       "      <td>1370</td>\n",
       "      <td>Night Fox Yoho</td>\n",
       "      <td>True</td>\n",
       "      <td>True</td>\n",
       "      <td>False</td>\n",
       "      <td>69</td>\n",
       "      <td>215</td>\n",
       "      <td>6</td>\n",
       "    </tr>\n",
       "    <tr>\n",
       "      <th>57</th>\n",
       "      <td>2022-05-02-10:55:12</td>\n",
       "      <td>Jazzercist</td>\n",
       "      <td>1367</td>\n",
       "      <td>Igrexion</td>\n",
       "      <td>True</td>\n",
       "      <td>True</td>\n",
       "      <td>False</td>\n",
       "      <td>56</td>\n",
       "      <td>169</td>\n",
       "      <td>9</td>\n",
       "    </tr>\n",
       "    <tr>\n",
       "      <th>58</th>\n",
       "      <td>2022-05-02-11:21:17</td>\n",
       "      <td>Jazzercist</td>\n",
       "      <td>1367</td>\n",
       "      <td>Igrexion</td>\n",
       "      <td>True</td>\n",
       "      <td>True</td>\n",
       "      <td>False</td>\n",
       "      <td>55</td>\n",
       "      <td>158</td>\n",
       "      <td>9</td>\n",
       "    </tr>\n",
       "    <tr>\n",
       "      <th>59</th>\n",
       "      <td>2022-05-02-13:07:50</td>\n",
       "      <td>Derplearning</td>\n",
       "      <td>1325</td>\n",
       "      <td>Armored Nacrasena</td>\n",
       "      <td>True</td>\n",
       "      <td>True</td>\n",
       "      <td>False</td>\n",
       "      <td>46</td>\n",
       "      <td>134</td>\n",
       "      <td>6</td>\n",
       "    </tr>\n",
       "    <tr>\n",
       "      <th>60</th>\n",
       "      <td>2022-05-02-13:19:52</td>\n",
       "      <td>Derplearning</td>\n",
       "      <td>1325</td>\n",
       "      <td>Armored Nacrasena</td>\n",
       "      <td>True</td>\n",
       "      <td>True</td>\n",
       "      <td>False</td>\n",
       "      <td>43</td>\n",
       "      <td>131</td>\n",
       "      <td>6</td>\n",
       "    </tr>\n",
       "  </tbody>\n",
       "</table>\n",
       "<p>61 rows × 10 columns</p>\n",
       "</div>"
      ],
      "text/plain": [
       "              timestamp     character  ilvl               boss  at_level  \\\n",
       "0   2022-04-14-20:52:33    Jazzercist  1334  Armored Nacrasena      True   \n",
       "1   2022-04-15-09:45:28    Jazzercist  1340           Igrexion      True   \n",
       "2   2022-04-15-09:53:15    Jazzercist  1340           Igrexion      True   \n",
       "3   2022-04-15-11:31:46  Derplearning  1309  Armored Nacrasena      True   \n",
       "4   2022-04-15-11:39:16  Derplearning  1309  Armored Nacrasena      True   \n",
       "..                  ...           ...   ...                ...       ...   \n",
       "56  2022-05-02-10:14:13          Trif  1370     Night Fox Yoho      True   \n",
       "57  2022-05-02-10:55:12    Jazzercist  1367           Igrexion      True   \n",
       "58  2022-05-02-11:21:17    Jazzercist  1367           Igrexion      True   \n",
       "59  2022-05-02-13:07:50  Derplearning  1325  Armored Nacrasena      True   \n",
       "60  2022-05-02-13:19:52  Derplearning  1325  Armored Nacrasena      True   \n",
       "\n",
       "    rested  first_time  red  blue  stones  \n",
       "0    False       False   22    69       2  \n",
       "1    False        True   54   171       7  \n",
       "2    False       False   30    77       5  \n",
       "3     True       False   43   130       5  \n",
       "4    False       False   23    69       3  \n",
       "..     ...         ...  ...   ...     ...  \n",
       "56    True       False   69   215       6  \n",
       "57    True       False   56   169       9  \n",
       "58    True       False   55   158       9  \n",
       "59    True       False   46   134       6  \n",
       "60    True       False   43   131       6  \n",
       "\n",
       "[61 rows x 10 columns]"
      ]
     },
     "execution_count": 59,
     "metadata": {},
     "output_type": "execute_result"
    }
   ],
   "source": [
    "gr_history"
   ]
  },
  {
   "cell_type": "code",
   "execution_count": 60,
   "metadata": {},
   "outputs": [],
   "source": [
    "gr_df = (\n",
    "    gr_history\n",
    "    .query('stones > 0')\n",
    "    .query('ilvl >= 1100')\n",
    "    .query('first_time == False')\n",
    ") "
   ]
  },
  {
   "cell_type": "code",
   "execution_count": 61,
   "metadata": {},
   "outputs": [
    {
     "data": {
      "text/plain": [
       "<seaborn.axisgrid.PairGrid at 0x21b8cab9a80>"
      ]
     },
     "execution_count": 61,
     "metadata": {},
     "output_type": "execute_result"
    },
    {
     "data": {
      "image/png": "[encoded data removed]",
      "text/plain": [
       "<Figure size 601.25x540 with 12 Axes>"
      ]
     },
     "metadata": {
      "needs_background": "light"
     },
     "output_type": "display_data"
    }
   ],
   "source": [
    "sb.pairplot(gr_df, vars=('red', 'blue', 'stones'), hue='rested')"
   ]
  },
  {
   "cell_type": "code",
   "execution_count": 62,
   "metadata": {},
   "outputs": [
    {
     "data": {
      "text/plain": [
       "<seaborn.axisgrid.FacetGrid at 0x21b8d04b610>"
      ]
     },
     "execution_count": 62,
     "metadata": {},
     "output_type": "execute_result"
    },
    {
     "data": {
      "image/png": "[encoded data removed]",
      "text/plain": [
       "<Figure size 360x360 with 1 Axes>"
      ]
     },
     "metadata": {
      "needs_background": "light"
     },
     "output_type": "display_data"
    }
   ],
   "source": [
    "sb.lmplot(data=gr_df, x='rested', y='blue')\n"
   ]
  },
  {
   "cell_type": "code",
   "execution_count": 63,
   "metadata": {},
   "outputs": [
    {
     "data": {
      "text/plain": [
       "<seaborn.axisgrid.FacetGrid at 0x21b8cabb6a0>"
      ]
     },
     "execution_count": 63,
     "metadata": {},
     "output_type": "execute_result"
    },
    {
     "data": {
      "image/png": "[encoded data removed]",
      "text/plain": [
       "<Figure size 360x360 with 1 Axes>"
      ]
     },
     "metadata": {
      "needs_background": "light"
     },
     "output_type": "display_data"
    }
   ],
   "source": [
    "sb.lmplot(data=gr_df, x='rested', y='red')"
   ]
  },
  {
   "cell_type": "code",
   "execution_count": 64,
   "metadata": {},
   "outputs": [
    {
     "data": {
      "text/plain": [
       "<seaborn.axisgrid.FacetGrid at 0x21b8d0b5c60>"
      ]
     },
     "execution_count": 64,
     "metadata": {},
     "output_type": "execute_result"
    },
    {
     "data": {
      "image/png": "[encoded data removed]",
      "text/plain": [
       "<Figure size 360x360 with 1 Axes>"
      ]
     },
     "metadata": {
      "needs_background": "light"
     },
     "output_type": "display_data"
    }
   ],
   "source": [
    "sb.lmplot(data=gr_df, x='rested', y='stones')"
   ]
  },
  {
   "cell_type": "code",
   "execution_count": 65,
   "metadata": {},
   "outputs": [
    {
     "data": {
      "text/html": [
       "<div>\n",
       "<style scoped>\n",
       "    .dataframe tbody tr th:only-of-type {\n",
       "        vertical-align: middle;\n",
       "    }\n",
       "\n",
       "    .dataframe tbody tr th {\n",
       "        vertical-align: top;\n",
       "    }\n",
       "\n",
       "    .dataframe thead th {\n",
       "        text-align: right;\n",
       "    }\n",
       "</style>\n",
       "<table border=\"1\" class=\"dataframe\">\n",
       "  <thead>\n",
       "    <tr style=\"text-align: right;\">\n",
       "      <th></th>\n",
       "      <th>count</th>\n",
       "      <th>mean</th>\n",
       "      <th>std</th>\n",
       "      <th>min</th>\n",
       "      <th>25%</th>\n",
       "      <th>50%</th>\n",
       "      <th>75%</th>\n",
       "      <th>max</th>\n",
       "    </tr>\n",
       "    <tr>\n",
       "      <th>rested</th>\n",
       "      <th></th>\n",
       "      <th></th>\n",
       "      <th></th>\n",
       "      <th></th>\n",
       "      <th></th>\n",
       "      <th></th>\n",
       "      <th></th>\n",
       "      <th></th>\n",
       "    </tr>\n",
       "  </thead>\n",
       "  <tbody>\n",
       "    <tr>\n",
       "      <th>False</th>\n",
       "      <td>17.0</td>\n",
       "      <td>28.705882</td>\n",
       "      <td>4.341151</td>\n",
       "      <td>22.0</td>\n",
       "      <td>27.0</td>\n",
       "      <td>28.0</td>\n",
       "      <td>30.0</td>\n",
       "      <td>38.0</td>\n",
       "    </tr>\n",
       "    <tr>\n",
       "      <th>True</th>\n",
       "      <td>21.0</td>\n",
       "      <td>53.904762</td>\n",
       "      <td>14.056688</td>\n",
       "      <td>39.0</td>\n",
       "      <td>44.0</td>\n",
       "      <td>53.0</td>\n",
       "      <td>56.0</td>\n",
       "      <td>99.0</td>\n",
       "    </tr>\n",
       "  </tbody>\n",
       "</table>\n",
       "</div>"
      ],
      "text/plain": [
       "        count       mean        std   min   25%   50%   75%   max\n",
       "rested                                                           \n",
       "False    17.0  28.705882   4.341151  22.0  27.0  28.0  30.0  38.0\n",
       "True     21.0  53.904762  14.056688  39.0  44.0  53.0  56.0  99.0"
      ]
     },
     "execution_count": 65,
     "metadata": {},
     "output_type": "execute_result"
    }
   ],
   "source": [
    "gr_df.groupby('rested')['red'].describe()"
   ]
  },
  {
   "cell_type": "code",
   "execution_count": 66,
   "metadata": {},
   "outputs": [
    {
     "data": {
      "text/plain": [
       "<seaborn.axisgrid.FacetGrid at 0x21b8cabbca0>"
      ]
     },
     "execution_count": 66,
     "metadata": {},
     "output_type": "execute_result"
    },
    {
     "data": {
      "image/png": "[encoded data removed]",
      "text/plain": [
       "<Figure size 648x432 with 2 Axes>"
      ]
     },
     "metadata": {
      "needs_background": "light"
     },
     "output_type": "display_data"
    }
   ],
   "source": [
    "sb.displot(gr_df, x='red', row='rested', height=3, aspect=3, bins=30)"
   ]
  },
  {
   "cell_type": "code",
   "execution_count": 67,
   "metadata": {},
   "outputs": [
    {
     "data": {
      "text/plain": [
       "1.8778298204527712"
      ]
     },
     "execution_count": 67,
     "metadata": {},
     "output_type": "execute_result"
    }
   ],
   "source": [
    "gr_df[gr_df.rested == True]['red'].mean() / gr_df[gr_df.rested == False]['red'].mean()"
   ]
  },
  {
   "cell_type": "code",
   "execution_count": 68,
   "metadata": {},
   "outputs": [
    {
     "data": {
      "text/html": [
       "<div>\n",
       "<style scoped>\n",
       "    .dataframe tbody tr th:only-of-type {\n",
       "        vertical-align: middle;\n",
       "    }\n",
       "\n",
       "    .dataframe tbody tr th {\n",
       "        vertical-align: top;\n",
       "    }\n",
       "\n",
       "    .dataframe thead th {\n",
       "        text-align: right;\n",
       "    }\n",
       "</style>\n",
       "<table border=\"1\" class=\"dataframe\">\n",
       "  <thead>\n",
       "    <tr style=\"text-align: right;\">\n",
       "      <th></th>\n",
       "      <th>count</th>\n",
       "      <th>mean</th>\n",
       "      <th>std</th>\n",
       "      <th>min</th>\n",
       "      <th>25%</th>\n",
       "      <th>50%</th>\n",
       "      <th>75%</th>\n",
       "      <th>max</th>\n",
       "    </tr>\n",
       "    <tr>\n",
       "      <th>rested</th>\n",
       "      <th></th>\n",
       "      <th></th>\n",
       "      <th></th>\n",
       "      <th></th>\n",
       "      <th></th>\n",
       "      <th></th>\n",
       "      <th></th>\n",
       "      <th></th>\n",
       "    </tr>\n",
       "  </thead>\n",
       "  <tbody>\n",
       "    <tr>\n",
       "      <th>False</th>\n",
       "      <td>17.0</td>\n",
       "      <td>85.411765</td>\n",
       "      <td>11.731682</td>\n",
       "      <td>69.0</td>\n",
       "      <td>83.0</td>\n",
       "      <td>84.0</td>\n",
       "      <td>88.0</td>\n",
       "      <td>107.0</td>\n",
       "    </tr>\n",
       "    <tr>\n",
       "      <th>True</th>\n",
       "      <td>21.0</td>\n",
       "      <td>161.380952</td>\n",
       "      <td>45.690783</td>\n",
       "      <td>119.0</td>\n",
       "      <td>130.0</td>\n",
       "      <td>134.0</td>\n",
       "      <td>169.0</td>\n",
       "      <td>306.0</td>\n",
       "    </tr>\n",
       "  </tbody>\n",
       "</table>\n",
       "</div>"
      ],
      "text/plain": [
       "        count        mean        std    min    25%    50%    75%    max\n",
       "rested                                                                 \n",
       "False    17.0   85.411765  11.731682   69.0   83.0   84.0   88.0  107.0\n",
       "True     21.0  161.380952  45.690783  119.0  130.0  134.0  169.0  306.0"
      ]
     },
     "execution_count": 68,
     "metadata": {},
     "output_type": "execute_result"
    }
   ],
   "source": [
    "gr_df.groupby('rested')['blue'].describe()"
   ]
  },
  {
   "cell_type": "code",
   "execution_count": 69,
   "metadata": {},
   "outputs": [
    {
     "data": {
      "text/plain": [
       "<seaborn.axisgrid.FacetGrid at 0x21b8d1d5a50>"
      ]
     },
     "execution_count": 69,
     "metadata": {},
     "output_type": "execute_result"
    },
    {
     "data": {
      "image/png": "[encoded data removed]",
      "text/plain": [
       "<Figure size 648x432 with 2 Axes>"
      ]
     },
     "metadata": {
      "needs_background": "light"
     },
     "output_type": "display_data"
    }
   ],
   "source": [
    "sb.displot(gr_df, x='blue', row='rested', height=3, aspect=3, bins=30)"
   ]
  },
  {
   "cell_type": "code",
   "execution_count": 70,
   "metadata": {},
   "outputs": [
    {
     "data": {
      "text/plain": [
       "1.889446412173685"
      ]
     },
     "execution_count": 70,
     "metadata": {},
     "output_type": "execute_result"
    }
   ],
   "source": [
    "gr_df[gr_df.rested == True]['blue'].mean() / gr_df[gr_df.rested == False]['blue'].mean()"
   ]
  },
  {
   "cell_type": "code",
   "execution_count": 71,
   "metadata": {},
   "outputs": [
    {
     "data": {
      "text/html": [
       "<div>\n",
       "<style scoped>\n",
       "    .dataframe tbody tr th:only-of-type {\n",
       "        vertical-align: middle;\n",
       "    }\n",
       "\n",
       "    .dataframe tbody tr th {\n",
       "        vertical-align: top;\n",
       "    }\n",
       "\n",
       "    .dataframe thead th {\n",
       "        text-align: right;\n",
       "    }\n",
       "</style>\n",
       "<table border=\"1\" class=\"dataframe\">\n",
       "  <thead>\n",
       "    <tr style=\"text-align: right;\">\n",
       "      <th></th>\n",
       "      <th>count</th>\n",
       "      <th>mean</th>\n",
       "      <th>std</th>\n",
       "      <th>min</th>\n",
       "      <th>25%</th>\n",
       "      <th>50%</th>\n",
       "      <th>75%</th>\n",
       "      <th>max</th>\n",
       "    </tr>\n",
       "    <tr>\n",
       "      <th>rested</th>\n",
       "      <th></th>\n",
       "      <th></th>\n",
       "      <th></th>\n",
       "      <th></th>\n",
       "      <th></th>\n",
       "      <th></th>\n",
       "      <th></th>\n",
       "      <th></th>\n",
       "    </tr>\n",
       "  </thead>\n",
       "  <tbody>\n",
       "    <tr>\n",
       "      <th>False</th>\n",
       "      <td>17.0</td>\n",
       "      <td>4.176471</td>\n",
       "      <td>1.333946</td>\n",
       "      <td>2.0</td>\n",
       "      <td>3.0</td>\n",
       "      <td>4.0</td>\n",
       "      <td>5.0</td>\n",
       "      <td>8.0</td>\n",
       "    </tr>\n",
       "    <tr>\n",
       "      <th>True</th>\n",
       "      <td>21.0</td>\n",
       "      <td>7.095238</td>\n",
       "      <td>2.188716</td>\n",
       "      <td>5.0</td>\n",
       "      <td>6.0</td>\n",
       "      <td>6.0</td>\n",
       "      <td>9.0</td>\n",
       "      <td>14.0</td>\n",
       "    </tr>\n",
       "  </tbody>\n",
       "</table>\n",
       "</div>"
      ],
      "text/plain": [
       "        count      mean       std  min  25%  50%  75%   max\n",
       "rested                                                     \n",
       "False    17.0  4.176471  1.333946  2.0  3.0  4.0  5.0   8.0\n",
       "True     21.0  7.095238  2.188716  5.0  6.0  6.0  9.0  14.0"
      ]
     },
     "execution_count": 71,
     "metadata": {},
     "output_type": "execute_result"
    }
   ],
   "source": [
    "gr_df.groupby('rested')['stones'].describe()"
   ]
  },
  {
   "cell_type": "code",
   "execution_count": 72,
   "metadata": {},
   "outputs": [
    {
     "data": {
      "text/plain": [
       "<seaborn.axisgrid.FacetGrid at 0x21b8d11dfc0>"
      ]
     },
     "execution_count": 72,
     "metadata": {},
     "output_type": "execute_result"
    },
    {
     "data": {
      "image/png": "[encoded data removed]",
      "text/plain": [
       "<Figure size 648x432 with 2 Axes>"
      ]
     },
     "metadata": {
      "needs_background": "light"
     },
     "output_type": "display_data"
    }
   ],
   "source": [
    "sb.displot(gr_df, x='stones', row='rested', height=3, aspect=3, discrete=True)"
   ]
  },
  {
   "cell_type": "code",
   "execution_count": 73,
   "metadata": {},
   "outputs": [
    {
     "data": {
      "text/plain": [
       "1.6988598256203888"
      ]
     },
     "execution_count": 73,
     "metadata": {},
     "output_type": "execute_result"
    }
   ],
   "source": [
    "gr_df[gr_df.rested == True]['stones'].mean() / gr_df[gr_df.rested == False]['stones'].mean()"
   ]
  },
  {
   "cell_type": "markdown",
   "metadata": {},
   "source": [
    "# Chaos Dungeons\n",
    "Normal vs rested rewards"
   ]
  },
  {
   "cell_type": "code",
   "execution_count": 74,
   "metadata": {},
   "outputs": [
    {
     "data": {
      "text/html": [
       "<div>\n",
       "<style scoped>\n",
       "    .dataframe tbody tr th:only-of-type {\n",
       "        vertical-align: middle;\n",
       "    }\n",
       "\n",
       "    .dataframe tbody tr th {\n",
       "        vertical-align: top;\n",
       "    }\n",
       "\n",
       "    .dataframe thead th {\n",
       "        text-align: right;\n",
       "    }\n",
       "</style>\n",
       "<table border=\"1\" class=\"dataframe\">\n",
       "  <thead>\n",
       "    <tr style=\"text-align: right;\">\n",
       "      <th></th>\n",
       "      <th>timestamp</th>\n",
       "      <th>character</th>\n",
       "      <th>ilvl</th>\n",
       "      <th>dungeon</th>\n",
       "      <th>at_level</th>\n",
       "      <th>rested</th>\n",
       "      <th>bonus_floor</th>\n",
       "      <th>red</th>\n",
       "      <th>blue</th>\n",
       "      <th>shards</th>\n",
       "      <th>stones</th>\n",
       "    </tr>\n",
       "  </thead>\n",
       "  <tbody>\n",
       "    <tr>\n",
       "      <th>0</th>\n",
       "      <td>2022-04-14-20:28:10</td>\n",
       "      <td>Jazzercist</td>\n",
       "      <td>1334</td>\n",
       "      <td>Moon-1</td>\n",
       "      <td>True</td>\n",
       "      <td>False</td>\n",
       "      <td>None</td>\n",
       "      <td>42</td>\n",
       "      <td>105</td>\n",
       "      <td>1280</td>\n",
       "      <td>1</td>\n",
       "    </tr>\n",
       "    <tr>\n",
       "      <th>1</th>\n",
       "      <td>2022-04-15-08:55:54</td>\n",
       "      <td>Jazzercist</td>\n",
       "      <td>1334</td>\n",
       "      <td>Moon-1</td>\n",
       "      <td>True</td>\n",
       "      <td>False</td>\n",
       "      <td>None</td>\n",
       "      <td>40</td>\n",
       "      <td>163</td>\n",
       "      <td>1264</td>\n",
       "      <td>0</td>\n",
       "    </tr>\n",
       "    <tr>\n",
       "      <th>2</th>\n",
       "      <td>2022-04-15-09:05:30</td>\n",
       "      <td>Jazzercist</td>\n",
       "      <td>1334</td>\n",
       "      <td>Moon-1</td>\n",
       "      <td>True</td>\n",
       "      <td>False</td>\n",
       "      <td>None</td>\n",
       "      <td>37</td>\n",
       "      <td>157</td>\n",
       "      <td>1432</td>\n",
       "      <td>0</td>\n",
       "    </tr>\n",
       "    <tr>\n",
       "      <th>3</th>\n",
       "      <td>2022-04-15-11:15:00</td>\n",
       "      <td>Derplearning</td>\n",
       "      <td>1309</td>\n",
       "      <td>Star-1</td>\n",
       "      <td>True</td>\n",
       "      <td>True</td>\n",
       "      <td>None</td>\n",
       "      <td>56</td>\n",
       "      <td>227</td>\n",
       "      <td>1956</td>\n",
       "      <td>5</td>\n",
       "    </tr>\n",
       "    <tr>\n",
       "      <th>4</th>\n",
       "      <td>2022-04-15-11:22:03</td>\n",
       "      <td>Derplearning</td>\n",
       "      <td>1309</td>\n",
       "      <td>Star-1</td>\n",
       "      <td>True</td>\n",
       "      <td>False</td>\n",
       "      <td>None</td>\n",
       "      <td>29</td>\n",
       "      <td>110</td>\n",
       "      <td>984</td>\n",
       "      <td>2</td>\n",
       "    </tr>\n",
       "    <tr>\n",
       "      <th>...</th>\n",
       "      <td>...</td>\n",
       "      <td>...</td>\n",
       "      <td>...</td>\n",
       "      <td>...</td>\n",
       "      <td>...</td>\n",
       "      <td>...</td>\n",
       "      <td>...</td>\n",
       "      <td>...</td>\n",
       "      <td>...</td>\n",
       "      <td>...</td>\n",
       "      <td>...</td>\n",
       "    </tr>\n",
       "    <tr>\n",
       "      <th>64</th>\n",
       "      <td>2022-05-02-10:26:47</td>\n",
       "      <td>Jazzercist</td>\n",
       "      <td>1366</td>\n",
       "      <td>Moon-3</td>\n",
       "      <td>True</td>\n",
       "      <td>True</td>\n",
       "      <td>None</td>\n",
       "      <td>98</td>\n",
       "      <td>341</td>\n",
       "      <td>3351</td>\n",
       "      <td>3</td>\n",
       "    </tr>\n",
       "    <tr>\n",
       "      <th>65</th>\n",
       "      <td>2022-05-02-10:34:22</td>\n",
       "      <td>Jazzercist</td>\n",
       "      <td>1366</td>\n",
       "      <td>Moon-3</td>\n",
       "      <td>True</td>\n",
       "      <td>True</td>\n",
       "      <td>None</td>\n",
       "      <td>118</td>\n",
       "      <td>379</td>\n",
       "      <td>3606</td>\n",
       "      <td>9</td>\n",
       "    </tr>\n",
       "    <tr>\n",
       "      <th>66</th>\n",
       "      <td>2022-05-02-12:46:06</td>\n",
       "      <td>Derplearning</td>\n",
       "      <td>1325</td>\n",
       "      <td>Moon-1</td>\n",
       "      <td>True</td>\n",
       "      <td>True</td>\n",
       "      <td>None</td>\n",
       "      <td>71</td>\n",
       "      <td>260</td>\n",
       "      <td>2744</td>\n",
       "      <td>3</td>\n",
       "    </tr>\n",
       "    <tr>\n",
       "      <th>67</th>\n",
       "      <td>2022-05-02-12:54:42</td>\n",
       "      <td>Derplearning</td>\n",
       "      <td>1325</td>\n",
       "      <td>Moon-1</td>\n",
       "      <td>True</td>\n",
       "      <td>True</td>\n",
       "      <td>None</td>\n",
       "      <td>70</td>\n",
       "      <td>273</td>\n",
       "      <td>2937</td>\n",
       "      <td>9</td>\n",
       "    </tr>\n",
       "    <tr>\n",
       "      <th>68</th>\n",
       "      <td>2022-05-02-17:36:26</td>\n",
       "      <td>Trif</td>\n",
       "      <td>1370</td>\n",
       "      <td>Sun-1</td>\n",
       "      <td>True</td>\n",
       "      <td>False</td>\n",
       "      <td>Treasure</td>\n",
       "      <td>52</td>\n",
       "      <td>161</td>\n",
       "      <td>3123</td>\n",
       "      <td>6</td>\n",
       "    </tr>\n",
       "  </tbody>\n",
       "</table>\n",
       "<p>69 rows × 11 columns</p>\n",
       "</div>"
      ],
      "text/plain": [
       "              timestamp     character  ilvl dungeon  at_level  rested  \\\n",
       "0   2022-04-14-20:28:10    Jazzercist  1334  Moon-1      True   False   \n",
       "1   2022-04-15-08:55:54    Jazzercist  1334  Moon-1      True   False   \n",
       "2   2022-04-15-09:05:30    Jazzercist  1334  Moon-1      True   False   \n",
       "3   2022-04-15-11:15:00  Derplearning  1309  Star-1      True    True   \n",
       "4   2022-04-15-11:22:03  Derplearning  1309  Star-1      True   False   \n",
       "..                  ...           ...   ...     ...       ...     ...   \n",
       "64  2022-05-02-10:26:47    Jazzercist  1366  Moon-3      True    True   \n",
       "65  2022-05-02-10:34:22    Jazzercist  1366  Moon-3      True    True   \n",
       "66  2022-05-02-12:46:06  Derplearning  1325  Moon-1      True    True   \n",
       "67  2022-05-02-12:54:42  Derplearning  1325  Moon-1      True    True   \n",
       "68  2022-05-02-17:36:26          Trif  1370   Sun-1      True   False   \n",
       "\n",
       "   bonus_floor  red  blue  shards  stones  \n",
       "0         None   42   105    1280       1  \n",
       "1         None   40   163    1264       0  \n",
       "2         None   37   157    1432       0  \n",
       "3         None   56   227    1956       5  \n",
       "4         None   29   110     984       2  \n",
       "..         ...  ...   ...     ...     ...  \n",
       "64        None   98   341    3351       3  \n",
       "65        None  118   379    3606       9  \n",
       "66        None   71   260    2744       3  \n",
       "67        None   70   273    2937       9  \n",
       "68    Treasure   52   161    3123       6  \n",
       "\n",
       "[69 rows x 11 columns]"
      ]
     },
     "execution_count": 74,
     "metadata": {},
     "output_type": "execute_result"
    }
   ],
   "source": [
    "cd_aor_history = pd.read_csv('app/data/histories/cd_aor.csv')\n",
    "\n",
    "cd_aor_history"
   ]
  },
  {
   "cell_type": "code",
   "execution_count": 75,
   "metadata": {},
   "outputs": [],
   "source": [
    "cd_df = (\n",
    "    cd_aor_history\n",
    "    .query('stones < 20')\n",
    "    .query('shards > 0')\n",
    "    .query('bonus_floor == \"None\"')\n",
    "    .query('ilvl >= 1100')\n",
    "    .drop(['at_level', 'ilvl'], axis=1)\n",
    ")"
   ]
  },
  {
   "cell_type": "code",
   "execution_count": 76,
   "metadata": {},
   "outputs": [
    {
     "data": {
      "text/plain": [
       "<seaborn.axisgrid.PairGrid at 0x21b8d65e170>"
      ]
     },
     "execution_count": 76,
     "metadata": {},
     "output_type": "execute_result"
    },
    {
     "data": {
      "image/png": "[encoded data removed]",
      "text/plain": [
       "<Figure size 781.25x720 with 20 Axes>"
      ]
     },
     "metadata": {
      "needs_background": "light"
     },
     "output_type": "display_data"
    }
   ],
   "source": [
    "sb.pairplot(cd_df, vars=('red', 'blue', 'shards', 'stones'), hue='rested')"
   ]
  },
  {
   "cell_type": "code",
   "execution_count": 77,
   "metadata": {},
   "outputs": [
    {
     "data": {
      "text/plain": [
       "<seaborn.axisgrid.FacetGrid at 0x21b8f634100>"
      ]
     },
     "execution_count": 77,
     "metadata": {},
     "output_type": "execute_result"
    },
    {
     "data": {
      "image/png": "[encoded data removed]",
      "text/plain": [
       "<Figure size 360x360 with 1 Axes>"
      ]
     },
     "metadata": {
      "needs_background": "light"
     },
     "output_type": "display_data"
    }
   ],
   "source": [
    "sb.lmplot(data=cd_df, x='rested', y='blue')\n"
   ]
  },
  {
   "cell_type": "code",
   "execution_count": 78,
   "metadata": {},
   "outputs": [
    {
     "data": {
      "text/plain": [
       "<seaborn.axisgrid.FacetGrid at 0x21b8f658ac0>"
      ]
     },
     "execution_count": 78,
     "metadata": {},
     "output_type": "execute_result"
    },
    {
     "data": {
      "image/png": "[encoded data removed]",
      "text/plain": [
       "<Figure size 360x360 with 1 Axes>"
      ]
     },
     "metadata": {
      "needs_background": "light"
     },
     "output_type": "display_data"
    }
   ],
   "source": [
    "sb.lmplot(data=cd_df, x='rested', y='red')"
   ]
  },
  {
   "cell_type": "code",
   "execution_count": 79,
   "metadata": {},
   "outputs": [
    {
     "data": {
      "text/plain": [
       "<seaborn.axisgrid.FacetGrid at 0x21b8f4c7c10>"
      ]
     },
     "execution_count": 79,
     "metadata": {},
     "output_type": "execute_result"
    },
    {
     "data": {
      "image/png": "[encoded data removed]",
      "text/plain": [
       "<Figure size 360x360 with 1 Axes>"
      ]
     },
     "metadata": {
      "needs_background": "light"
     },
     "output_type": "display_data"
    }
   ],
   "source": [
    "sb.lmplot(data=cd_df, x='rested', y='stones')"
   ]
  },
  {
   "cell_type": "code",
   "execution_count": 80,
   "metadata": {},
   "outputs": [
    {
     "data": {
      "text/plain": [
       "<seaborn.axisgrid.FacetGrid at 0x21b8f707d00>"
      ]
     },
     "execution_count": 80,
     "metadata": {},
     "output_type": "execute_result"
    },
    {
     "data": {
      "image/png": "[encoded data removed]",
      "text/plain": [
       "<Figure size 360x360 with 1 Axes>"
      ]
     },
     "metadata": {
      "needs_background": "light"
     },
     "output_type": "display_data"
    }
   ],
   "source": [
    "sb.lmplot(data=cd_df, x='rested', y='shards')"
   ]
  },
  {
   "cell_type": "code",
   "execution_count": 81,
   "metadata": {},
   "outputs": [
    {
     "data": {
      "text/html": [
       "<div>\n",
       "<style scoped>\n",
       "    .dataframe tbody tr th:only-of-type {\n",
       "        vertical-align: middle;\n",
       "    }\n",
       "\n",
       "    .dataframe tbody tr th {\n",
       "        vertical-align: top;\n",
       "    }\n",
       "\n",
       "    .dataframe thead th {\n",
       "        text-align: right;\n",
       "    }\n",
       "</style>\n",
       "<table border=\"1\" class=\"dataframe\">\n",
       "  <thead>\n",
       "    <tr style=\"text-align: right;\">\n",
       "      <th></th>\n",
       "      <th>count</th>\n",
       "      <th>mean</th>\n",
       "      <th>std</th>\n",
       "      <th>min</th>\n",
       "      <th>25%</th>\n",
       "      <th>50%</th>\n",
       "      <th>75%</th>\n",
       "      <th>max</th>\n",
       "    </tr>\n",
       "    <tr>\n",
       "      <th>rested</th>\n",
       "      <th></th>\n",
       "      <th></th>\n",
       "      <th></th>\n",
       "      <th></th>\n",
       "      <th></th>\n",
       "      <th></th>\n",
       "      <th></th>\n",
       "      <th></th>\n",
       "    </tr>\n",
       "  </thead>\n",
       "  <tbody>\n",
       "    <tr>\n",
       "      <th>False</th>\n",
       "      <td>20.0</td>\n",
       "      <td>50.5500</td>\n",
       "      <td>11.807558</td>\n",
       "      <td>29.0</td>\n",
       "      <td>42.75</td>\n",
       "      <td>47.5</td>\n",
       "      <td>59.5</td>\n",
       "      <td>72.0</td>\n",
       "    </tr>\n",
       "    <tr>\n",
       "      <th>True</th>\n",
       "      <td>16.0</td>\n",
       "      <td>92.5625</td>\n",
       "      <td>21.124926</td>\n",
       "      <td>56.0</td>\n",
       "      <td>74.00</td>\n",
       "      <td>98.5</td>\n",
       "      <td>106.5</td>\n",
       "      <td>129.0</td>\n",
       "    </tr>\n",
       "  </tbody>\n",
       "</table>\n",
       "</div>"
      ],
      "text/plain": [
       "        count     mean        std   min    25%   50%    75%    max\n",
       "rested                                                            \n",
       "False    20.0  50.5500  11.807558  29.0  42.75  47.5   59.5   72.0\n",
       "True     16.0  92.5625  21.124926  56.0  74.00  98.5  106.5  129.0"
      ]
     },
     "execution_count": 81,
     "metadata": {},
     "output_type": "execute_result"
    }
   ],
   "source": [
    "cd_df.groupby('rested')['red'].describe()"
   ]
  },
  {
   "cell_type": "code",
   "execution_count": 82,
   "metadata": {},
   "outputs": [
    {
     "data": {
      "text/plain": [
       "<seaborn.axisgrid.FacetGrid at 0x21b8f610070>"
      ]
     },
     "execution_count": 82,
     "metadata": {},
     "output_type": "execute_result"
    },
    {
     "data": {
      "image/png": "[encoded data removed]",
      "text/plain": [
       "<Figure size 648x432 with 2 Axes>"
      ]
     },
     "metadata": {
      "needs_background": "light"
     },
     "output_type": "display_data"
    }
   ],
   "source": [
    "sb.displot(cd_df, x='red', row='rested', height=3, aspect=3, bins=30)"
   ]
  },
  {
   "cell_type": "code",
   "execution_count": 83,
   "metadata": {},
   "outputs": [
    {
     "data": {
      "text/plain": [
       "1.8311078140454997"
      ]
     },
     "execution_count": 83,
     "metadata": {},
     "output_type": "execute_result"
    }
   ],
   "source": [
    "cd_df[cd_df.rested == True]['red'].mean() / cd_df[cd_df.rested == False]['red'].mean()"
   ]
  },
  {
   "cell_type": "code",
   "execution_count": 84,
   "metadata": {},
   "outputs": [
    {
     "data": {
      "text/html": [
       "<div>\n",
       "<style scoped>\n",
       "    .dataframe tbody tr th:only-of-type {\n",
       "        vertical-align: middle;\n",
       "    }\n",
       "\n",
       "    .dataframe tbody tr th {\n",
       "        vertical-align: top;\n",
       "    }\n",
       "\n",
       "    .dataframe thead th {\n",
       "        text-align: right;\n",
       "    }\n",
       "</style>\n",
       "<table border=\"1\" class=\"dataframe\">\n",
       "  <thead>\n",
       "    <tr style=\"text-align: right;\">\n",
       "      <th></th>\n",
       "      <th>count</th>\n",
       "      <th>mean</th>\n",
       "      <th>std</th>\n",
       "      <th>min</th>\n",
       "      <th>25%</th>\n",
       "      <th>50%</th>\n",
       "      <th>75%</th>\n",
       "      <th>max</th>\n",
       "    </tr>\n",
       "    <tr>\n",
       "      <th>rested</th>\n",
       "      <th></th>\n",
       "      <th></th>\n",
       "      <th></th>\n",
       "      <th></th>\n",
       "      <th></th>\n",
       "      <th></th>\n",
       "      <th></th>\n",
       "      <th></th>\n",
       "    </tr>\n",
       "  </thead>\n",
       "  <tbody>\n",
       "    <tr>\n",
       "      <th>False</th>\n",
       "      <td>20.0</td>\n",
       "      <td>160.95</td>\n",
       "      <td>33.848696</td>\n",
       "      <td>105.0</td>\n",
       "      <td>148.5</td>\n",
       "      <td>160.0</td>\n",
       "      <td>180.5</td>\n",
       "      <td>228.0</td>\n",
       "    </tr>\n",
       "    <tr>\n",
       "      <th>True</th>\n",
       "      <td>16.0</td>\n",
       "      <td>295.50</td>\n",
       "      <td>61.438316</td>\n",
       "      <td>222.0</td>\n",
       "      <td>239.0</td>\n",
       "      <td>278.0</td>\n",
       "      <td>346.5</td>\n",
       "      <td>387.0</td>\n",
       "    </tr>\n",
       "  </tbody>\n",
       "</table>\n",
       "</div>"
      ],
      "text/plain": [
       "        count    mean        std    min    25%    50%    75%    max\n",
       "rested                                                             \n",
       "False    20.0  160.95  33.848696  105.0  148.5  160.0  180.5  228.0\n",
       "True     16.0  295.50  61.438316  222.0  239.0  278.0  346.5  387.0"
      ]
     },
     "execution_count": 84,
     "metadata": {},
     "output_type": "execute_result"
    }
   ],
   "source": [
    "cd_df.groupby('rested')['blue'].describe()"
   ]
  },
  {
   "cell_type": "code",
   "execution_count": 85,
   "metadata": {},
   "outputs": [
    {
     "data": {
      "text/plain": [
       "<seaborn.axisgrid.FacetGrid at 0x21b8fc03dc0>"
      ]
     },
     "execution_count": 85,
     "metadata": {},
     "output_type": "execute_result"
    },
    {
     "data": {
      "image/png": "[encoded data removed]",
      "text/plain": [
       "<Figure size 648x432 with 2 Axes>"
      ]
     },
     "metadata": {
      "needs_background": "light"
     },
     "output_type": "display_data"
    }
   ],
   "source": [
    "sb.displot(cd_df, x='blue', row='rested', height=3, aspect=3, bins=30)"
   ]
  },
  {
   "cell_type": "code",
   "execution_count": 86,
   "metadata": {},
   "outputs": [
    {
     "data": {
      "text/plain": [
       "1.8359739049394224"
      ]
     },
     "execution_count": 86,
     "metadata": {},
     "output_type": "execute_result"
    }
   ],
   "source": [
    "cd_df[cd_df.rested == True]['blue'].mean() / cd_df[cd_df.rested == False]['blue'].mean()"
   ]
  },
  {
   "cell_type": "code",
   "execution_count": 87,
   "metadata": {},
   "outputs": [
    {
     "data": {
      "text/html": [
       "<div>\n",
       "<style scoped>\n",
       "    .dataframe tbody tr th:only-of-type {\n",
       "        vertical-align: middle;\n",
       "    }\n",
       "\n",
       "    .dataframe tbody tr th {\n",
       "        vertical-align: top;\n",
       "    }\n",
       "\n",
       "    .dataframe thead th {\n",
       "        text-align: right;\n",
       "    }\n",
       "</style>\n",
       "<table border=\"1\" class=\"dataframe\">\n",
       "  <thead>\n",
       "    <tr style=\"text-align: right;\">\n",
       "      <th></th>\n",
       "      <th>count</th>\n",
       "      <th>mean</th>\n",
       "      <th>std</th>\n",
       "      <th>min</th>\n",
       "      <th>25%</th>\n",
       "      <th>50%</th>\n",
       "      <th>75%</th>\n",
       "      <th>max</th>\n",
       "    </tr>\n",
       "    <tr>\n",
       "      <th>rested</th>\n",
       "      <th></th>\n",
       "      <th></th>\n",
       "      <th></th>\n",
       "      <th></th>\n",
       "      <th></th>\n",
       "      <th></th>\n",
       "      <th></th>\n",
       "      <th></th>\n",
       "    </tr>\n",
       "  </thead>\n",
       "  <tbody>\n",
       "    <tr>\n",
       "      <th>False</th>\n",
       "      <td>20.0</td>\n",
       "      <td>2.700</td>\n",
       "      <td>1.809333</td>\n",
       "      <td>0.0</td>\n",
       "      <td>1.75</td>\n",
       "      <td>2.5</td>\n",
       "      <td>3.25</td>\n",
       "      <td>7.0</td>\n",
       "    </tr>\n",
       "    <tr>\n",
       "      <th>True</th>\n",
       "      <td>16.0</td>\n",
       "      <td>6.125</td>\n",
       "      <td>2.986079</td>\n",
       "      <td>3.0</td>\n",
       "      <td>3.00</td>\n",
       "      <td>5.5</td>\n",
       "      <td>9.00</td>\n",
       "      <td>11.0</td>\n",
       "    </tr>\n",
       "  </tbody>\n",
       "</table>\n",
       "</div>"
      ],
      "text/plain": [
       "        count   mean       std  min   25%  50%   75%   max\n",
       "rested                                                    \n",
       "False    20.0  2.700  1.809333  0.0  1.75  2.5  3.25   7.0\n",
       "True     16.0  6.125  2.986079  3.0  3.00  5.5  9.00  11.0"
      ]
     },
     "execution_count": 87,
     "metadata": {},
     "output_type": "execute_result"
    }
   ],
   "source": [
    "cd_df.groupby('rested')['stones'].describe()"
   ]
  },
  {
   "cell_type": "code",
   "execution_count": 88,
   "metadata": {},
   "outputs": [
    {
     "data": {
      "text/plain": [
       "<seaborn.axisgrid.FacetGrid at 0x21b8fe4a230>"
      ]
     },
     "execution_count": 88,
     "metadata": {},
     "output_type": "execute_result"
    },
    {
     "data": {
      "image/png": "[encoded data removed]",
      "text/plain": [
       "<Figure size 648x432 with 2 Axes>"
      ]
     },
     "metadata": {
      "needs_background": "light"
     },
     "output_type": "display_data"
    }
   ],
   "source": [
    "sb.displot(cd_df, x='stones', row='rested', height=3, aspect=3, discrete=True)"
   ]
  },
  {
   "cell_type": "code",
   "execution_count": 89,
   "metadata": {},
   "outputs": [
    {
     "data": {
      "text/plain": [
       "2.268518518518518"
      ]
     },
     "execution_count": 89,
     "metadata": {},
     "output_type": "execute_result"
    }
   ],
   "source": [
    "cd_df[cd_df.rested == True]['stones'].mean() / cd_df[cd_df.rested == False]['stones'].mean()"
   ]
  },
  {
   "cell_type": "code",
   "execution_count": 90,
   "metadata": {},
   "outputs": [
    {
     "data": {
      "text/html": [
       "<div>\n",
       "<style scoped>\n",
       "    .dataframe tbody tr th:only-of-type {\n",
       "        vertical-align: middle;\n",
       "    }\n",
       "\n",
       "    .dataframe tbody tr th {\n",
       "        vertical-align: top;\n",
       "    }\n",
       "\n",
       "    .dataframe thead th {\n",
       "        text-align: right;\n",
       "    }\n",
       "</style>\n",
       "<table border=\"1\" class=\"dataframe\">\n",
       "  <thead>\n",
       "    <tr style=\"text-align: right;\">\n",
       "      <th></th>\n",
       "      <th>count</th>\n",
       "      <th>mean</th>\n",
       "      <th>std</th>\n",
       "      <th>min</th>\n",
       "      <th>25%</th>\n",
       "      <th>50%</th>\n",
       "      <th>75%</th>\n",
       "      <th>max</th>\n",
       "    </tr>\n",
       "    <tr>\n",
       "      <th>rested</th>\n",
       "      <th></th>\n",
       "      <th></th>\n",
       "      <th></th>\n",
       "      <th></th>\n",
       "      <th></th>\n",
       "      <th></th>\n",
       "      <th></th>\n",
       "      <th></th>\n",
       "    </tr>\n",
       "  </thead>\n",
       "  <tbody>\n",
       "    <tr>\n",
       "      <th>False</th>\n",
       "      <td>20.0</td>\n",
       "      <td>1509.7500</td>\n",
       "      <td>281.207897</td>\n",
       "      <td>984.0</td>\n",
       "      <td>1304.75</td>\n",
       "      <td>1547.5</td>\n",
       "      <td>1738.25</td>\n",
       "      <td>1931.0</td>\n",
       "    </tr>\n",
       "    <tr>\n",
       "      <th>True</th>\n",
       "      <td>16.0</td>\n",
       "      <td>3048.3125</td>\n",
       "      <td>624.632022</td>\n",
       "      <td>1956.0</td>\n",
       "      <td>2711.75</td>\n",
       "      <td>2859.0</td>\n",
       "      <td>3414.75</td>\n",
       "      <td>4410.0</td>\n",
       "    </tr>\n",
       "  </tbody>\n",
       "</table>\n",
       "</div>"
      ],
      "text/plain": [
       "        count       mean         std     min      25%     50%      75%     max\n",
       "rested                                                                        \n",
       "False    20.0  1509.7500  281.207897   984.0  1304.75  1547.5  1738.25  1931.0\n",
       "True     16.0  3048.3125  624.632022  1956.0  2711.75  2859.0  3414.75  4410.0"
      ]
     },
     "execution_count": 90,
     "metadata": {},
     "output_type": "execute_result"
    }
   ],
   "source": [
    "cd_df.groupby('rested')['shards'].describe()"
   ]
  },
  {
   "cell_type": "code",
   "execution_count": 91,
   "metadata": {},
   "outputs": [
    {
     "data": {
      "text/plain": [
       "<seaborn.axisgrid.FacetGrid at 0x21b8f7f9ab0>"
      ]
     },
     "execution_count": 91,
     "metadata": {},
     "output_type": "execute_result"
    },
    {
     "data": {
      "image/png": "[encoded data removed]",
      "text/plain": [
       "<Figure size 648x432 with 2 Axes>"
      ]
     },
     "metadata": {
      "needs_background": "light"
     },
     "output_type": "display_data"
    }
   ],
   "source": [
    "sb.displot(cd_df, x='shards', row='rested', height=3, aspect=3, bins=30)"
   ]
  },
  {
   "cell_type": "code",
   "execution_count": 92,
   "metadata": {},
   "outputs": [
    {
     "data": {
      "text/plain": [
       "2.019084285477728"
      ]
     },
     "execution_count": 92,
     "metadata": {},
     "output_type": "execute_result"
    }
   ],
   "source": [
    "cd_df[cd_df.rested == True]['shards'].mean() / cd_df[cd_df.rested == False]['shards'].mean()"
   ]
  },
  {
   "cell_type": "markdown",
   "metadata": {},
   "source": [
    "# Chaos Dungeon Infinite Grind"
   ]
  },
  {
   "cell_type": "code",
   "execution_count": 98,
   "metadata": {},
   "outputs": [
    {
     "data": {
      "text/html": [
       "<div>\n",
       "<style scoped>\n",
       "    .dataframe tbody tr th:only-of-type {\n",
       "        vertical-align: middle;\n",
       "    }\n",
       "\n",
       "    .dataframe tbody tr th {\n",
       "        vertical-align: top;\n",
       "    }\n",
       "\n",
       "    .dataframe thead th {\n",
       "        text-align: right;\n",
       "    }\n",
       "</style>\n",
       "<table border=\"1\" class=\"dataframe\">\n",
       "  <thead>\n",
       "    <tr style=\"text-align: right;\">\n",
       "      <th></th>\n",
       "      <th>timestamp</th>\n",
       "      <th>character</th>\n",
       "      <th>ilvl</th>\n",
       "      <th>dungeon</th>\n",
       "      <th>at_level</th>\n",
       "      <th>bonus_floor</th>\n",
       "      <th>floor</th>\n",
       "      <th>currency_orbs</th>\n",
       "      <th>currency_shards</th>\n",
       "      <th>red</th>\n",
       "      <th>blue</th>\n",
       "    </tr>\n",
       "  </thead>\n",
       "  <tbody>\n",
       "    <tr>\n",
       "      <th>0</th>\n",
       "      <td>2022-05-02-18:02:35</td>\n",
       "      <td>Trif</td>\n",
       "      <td>1375</td>\n",
       "      <td>Sun-1</td>\n",
       "      <td>True</td>\n",
       "      <td>False</td>\n",
       "      <td>1</td>\n",
       "      <td>3</td>\n",
       "      <td>33</td>\n",
       "      <td>0</td>\n",
       "      <td>0</td>\n",
       "    </tr>\n",
       "    <tr>\n",
       "      <th>1</th>\n",
       "      <td>2022-05-02-18:02:35</td>\n",
       "      <td>Trif</td>\n",
       "      <td>1375</td>\n",
       "      <td>Sun-1</td>\n",
       "      <td>True</td>\n",
       "      <td>False</td>\n",
       "      <td>2</td>\n",
       "      <td>13</td>\n",
       "      <td>74</td>\n",
       "      <td>0</td>\n",
       "      <td>13</td>\n",
       "    </tr>\n",
       "    <tr>\n",
       "      <th>2</th>\n",
       "      <td>2022-05-02-18:02:35</td>\n",
       "      <td>Trif</td>\n",
       "      <td>1375</td>\n",
       "      <td>Sun-1</td>\n",
       "      <td>True</td>\n",
       "      <td>False</td>\n",
       "      <td>3</td>\n",
       "      <td>7</td>\n",
       "      <td>53</td>\n",
       "      <td>3</td>\n",
       "      <td>4</td>\n",
       "    </tr>\n",
       "    <tr>\n",
       "      <th>3</th>\n",
       "      <td>2022-05-02-18:09:16</td>\n",
       "      <td>Trif</td>\n",
       "      <td>1375</td>\n",
       "      <td>Sun-1</td>\n",
       "      <td>True</td>\n",
       "      <td>False</td>\n",
       "      <td>1</td>\n",
       "      <td>5</td>\n",
       "      <td>39</td>\n",
       "      <td>0</td>\n",
       "      <td>0</td>\n",
       "    </tr>\n",
       "    <tr>\n",
       "      <th>4</th>\n",
       "      <td>2022-05-02-18:09:16</td>\n",
       "      <td>Trif</td>\n",
       "      <td>1375</td>\n",
       "      <td>Sun-1</td>\n",
       "      <td>True</td>\n",
       "      <td>False</td>\n",
       "      <td>2</td>\n",
       "      <td>6</td>\n",
       "      <td>90</td>\n",
       "      <td>7</td>\n",
       "      <td>26</td>\n",
       "    </tr>\n",
       "    <tr>\n",
       "      <th>5</th>\n",
       "      <td>2022-05-02-18:09:16</td>\n",
       "      <td>Trif</td>\n",
       "      <td>1375</td>\n",
       "      <td>Sun-1</td>\n",
       "      <td>True</td>\n",
       "      <td>False</td>\n",
       "      <td>3</td>\n",
       "      <td>4</td>\n",
       "      <td>56</td>\n",
       "      <td>0</td>\n",
       "      <td>0</td>\n",
       "    </tr>\n",
       "    <tr>\n",
       "      <th>6</th>\n",
       "      <td>2022-05-02-18:24:47</td>\n",
       "      <td>Trif</td>\n",
       "      <td>1375</td>\n",
       "      <td>Sun-1</td>\n",
       "      <td>True</td>\n",
       "      <td>False</td>\n",
       "      <td>1</td>\n",
       "      <td>2</td>\n",
       "      <td>29</td>\n",
       "      <td>0</td>\n",
       "      <td>0</td>\n",
       "    </tr>\n",
       "    <tr>\n",
       "      <th>7</th>\n",
       "      <td>2022-05-02-18:24:47</td>\n",
       "      <td>Trif</td>\n",
       "      <td>1375</td>\n",
       "      <td>Sun-1</td>\n",
       "      <td>True</td>\n",
       "      <td>False</td>\n",
       "      <td>2</td>\n",
       "      <td>5</td>\n",
       "      <td>88</td>\n",
       "      <td>3</td>\n",
       "      <td>12</td>\n",
       "    </tr>\n",
       "    <tr>\n",
       "      <th>8</th>\n",
       "      <td>2022-05-02-18:24:47</td>\n",
       "      <td>Trif</td>\n",
       "      <td>1375</td>\n",
       "      <td>Sun-1</td>\n",
       "      <td>True</td>\n",
       "      <td>False</td>\n",
       "      <td>3</td>\n",
       "      <td>5</td>\n",
       "      <td>63</td>\n",
       "      <td>0</td>\n",
       "      <td>2</td>\n",
       "    </tr>\n",
       "    <tr>\n",
       "      <th>9</th>\n",
       "      <td>2022-05-02-18:33:50</td>\n",
       "      <td>Trif</td>\n",
       "      <td>1375</td>\n",
       "      <td>Sun-1</td>\n",
       "      <td>True</td>\n",
       "      <td>False</td>\n",
       "      <td>1</td>\n",
       "      <td>1</td>\n",
       "      <td>33</td>\n",
       "      <td>0</td>\n",
       "      <td>0</td>\n",
       "    </tr>\n",
       "    <tr>\n",
       "      <th>10</th>\n",
       "      <td>2022-05-02-18:33:50</td>\n",
       "      <td>Trif</td>\n",
       "      <td>1375</td>\n",
       "      <td>Sun-1</td>\n",
       "      <td>True</td>\n",
       "      <td>False</td>\n",
       "      <td>2</td>\n",
       "      <td>7</td>\n",
       "      <td>78</td>\n",
       "      <td>7</td>\n",
       "      <td>14</td>\n",
       "    </tr>\n",
       "    <tr>\n",
       "      <th>11</th>\n",
       "      <td>2022-05-02-18:33:50</td>\n",
       "      <td>Trif</td>\n",
       "      <td>1375</td>\n",
       "      <td>Sun-1</td>\n",
       "      <td>True</td>\n",
       "      <td>False</td>\n",
       "      <td>3</td>\n",
       "      <td>5</td>\n",
       "      <td>60</td>\n",
       "      <td>0</td>\n",
       "      <td>11</td>\n",
       "    </tr>\n",
       "    <tr>\n",
       "      <th>12</th>\n",
       "      <td>2022-05-02-18:40:44</td>\n",
       "      <td>Trif</td>\n",
       "      <td>1375</td>\n",
       "      <td>Sun-1</td>\n",
       "      <td>True</td>\n",
       "      <td>False</td>\n",
       "      <td>1</td>\n",
       "      <td>4</td>\n",
       "      <td>32</td>\n",
       "      <td>0</td>\n",
       "      <td>0</td>\n",
       "    </tr>\n",
       "    <tr>\n",
       "      <th>13</th>\n",
       "      <td>2022-05-02-18:40:44</td>\n",
       "      <td>Trif</td>\n",
       "      <td>1375</td>\n",
       "      <td>Sun-1</td>\n",
       "      <td>True</td>\n",
       "      <td>False</td>\n",
       "      <td>2</td>\n",
       "      <td>12</td>\n",
       "      <td>76</td>\n",
       "      <td>11</td>\n",
       "      <td>14</td>\n",
       "    </tr>\n",
       "    <tr>\n",
       "      <th>14</th>\n",
       "      <td>2022-05-02-18:40:44</td>\n",
       "      <td>Trif</td>\n",
       "      <td>1375</td>\n",
       "      <td>Sun-1</td>\n",
       "      <td>True</td>\n",
       "      <td>False</td>\n",
       "      <td>3</td>\n",
       "      <td>5</td>\n",
       "      <td>55</td>\n",
       "      <td>0</td>\n",
       "      <td>6</td>\n",
       "    </tr>\n",
       "    <tr>\n",
       "      <th>15</th>\n",
       "      <td>2022-05-02-20:42:36</td>\n",
       "      <td>Trif</td>\n",
       "      <td>1375</td>\n",
       "      <td>Star-1</td>\n",
       "      <td>False</td>\n",
       "      <td>False</td>\n",
       "      <td>1</td>\n",
       "      <td>1</td>\n",
       "      <td>33</td>\n",
       "      <td>0</td>\n",
       "      <td>0</td>\n",
       "    </tr>\n",
       "    <tr>\n",
       "      <th>16</th>\n",
       "      <td>2022-05-02-20:42:36</td>\n",
       "      <td>Trif</td>\n",
       "      <td>1375</td>\n",
       "      <td>Star-1</td>\n",
       "      <td>False</td>\n",
       "      <td>False</td>\n",
       "      <td>2</td>\n",
       "      <td>11</td>\n",
       "      <td>55</td>\n",
       "      <td>0</td>\n",
       "      <td>15</td>\n",
       "    </tr>\n",
       "    <tr>\n",
       "      <th>17</th>\n",
       "      <td>2022-05-02-20:42:36</td>\n",
       "      <td>Trif</td>\n",
       "      <td>1375</td>\n",
       "      <td>Star-1</td>\n",
       "      <td>False</td>\n",
       "      <td>False</td>\n",
       "      <td>3</td>\n",
       "      <td>2</td>\n",
       "      <td>47</td>\n",
       "      <td>3</td>\n",
       "      <td>6</td>\n",
       "    </tr>\n",
       "    <tr>\n",
       "      <th>18</th>\n",
       "      <td>2022-05-02-20:48:05</td>\n",
       "      <td>Trif</td>\n",
       "      <td>1375</td>\n",
       "      <td>Star-1</td>\n",
       "      <td>False</td>\n",
       "      <td>False</td>\n",
       "      <td>1</td>\n",
       "      <td>2</td>\n",
       "      <td>24</td>\n",
       "      <td>0</td>\n",
       "      <td>0</td>\n",
       "    </tr>\n",
       "    <tr>\n",
       "      <th>19</th>\n",
       "      <td>2022-05-02-20:48:05</td>\n",
       "      <td>Trif</td>\n",
       "      <td>1375</td>\n",
       "      <td>Star-1</td>\n",
       "      <td>False</td>\n",
       "      <td>False</td>\n",
       "      <td>2</td>\n",
       "      <td>6</td>\n",
       "      <td>56</td>\n",
       "      <td>4</td>\n",
       "      <td>21</td>\n",
       "    </tr>\n",
       "    <tr>\n",
       "      <th>20</th>\n",
       "      <td>2022-05-02-20:48:05</td>\n",
       "      <td>Trif</td>\n",
       "      <td>1375</td>\n",
       "      <td>Star-1</td>\n",
       "      <td>False</td>\n",
       "      <td>False</td>\n",
       "      <td>3</td>\n",
       "      <td>3</td>\n",
       "      <td>41</td>\n",
       "      <td>0</td>\n",
       "      <td>8</td>\n",
       "    </tr>\n",
       "    <tr>\n",
       "      <th>21</th>\n",
       "      <td>2022-05-02-20:54:48</td>\n",
       "      <td>Trif</td>\n",
       "      <td>1375</td>\n",
       "      <td>Star-1</td>\n",
       "      <td>False</td>\n",
       "      <td>False</td>\n",
       "      <td>1</td>\n",
       "      <td>0</td>\n",
       "      <td>28</td>\n",
       "      <td>0</td>\n",
       "      <td>0</td>\n",
       "    </tr>\n",
       "    <tr>\n",
       "      <th>22</th>\n",
       "      <td>2022-05-02-20:54:48</td>\n",
       "      <td>Trif</td>\n",
       "      <td>1375</td>\n",
       "      <td>Star-1</td>\n",
       "      <td>False</td>\n",
       "      <td>False</td>\n",
       "      <td>2</td>\n",
       "      <td>4</td>\n",
       "      <td>65</td>\n",
       "      <td>9</td>\n",
       "      <td>13</td>\n",
       "    </tr>\n",
       "    <tr>\n",
       "      <th>23</th>\n",
       "      <td>2022-05-02-20:54:48</td>\n",
       "      <td>Trif</td>\n",
       "      <td>1375</td>\n",
       "      <td>Star-1</td>\n",
       "      <td>False</td>\n",
       "      <td>False</td>\n",
       "      <td>3</td>\n",
       "      <td>5</td>\n",
       "      <td>56</td>\n",
       "      <td>0</td>\n",
       "      <td>4</td>\n",
       "    </tr>\n",
       "    <tr>\n",
       "      <th>24</th>\n",
       "      <td>2022-05-02-21:00:58</td>\n",
       "      <td>Trif</td>\n",
       "      <td>1375</td>\n",
       "      <td>Star-1</td>\n",
       "      <td>False</td>\n",
       "      <td>False</td>\n",
       "      <td>1</td>\n",
       "      <td>1</td>\n",
       "      <td>24</td>\n",
       "      <td>0</td>\n",
       "      <td>0</td>\n",
       "    </tr>\n",
       "    <tr>\n",
       "      <th>25</th>\n",
       "      <td>2022-05-02-21:00:58</td>\n",
       "      <td>Trif</td>\n",
       "      <td>1375</td>\n",
       "      <td>Star-1</td>\n",
       "      <td>False</td>\n",
       "      <td>False</td>\n",
       "      <td>2</td>\n",
       "      <td>3</td>\n",
       "      <td>63</td>\n",
       "      <td>8</td>\n",
       "      <td>17</td>\n",
       "    </tr>\n",
       "    <tr>\n",
       "      <th>26</th>\n",
       "      <td>2022-05-02-21:00:58</td>\n",
       "      <td>Trif</td>\n",
       "      <td>1375</td>\n",
       "      <td>Star-1</td>\n",
       "      <td>False</td>\n",
       "      <td>False</td>\n",
       "      <td>3</td>\n",
       "      <td>6</td>\n",
       "      <td>54</td>\n",
       "      <td>2</td>\n",
       "      <td>4</td>\n",
       "    </tr>\n",
       "    <tr>\n",
       "      <th>27</th>\n",
       "      <td>2022-05-02-21:07:05</td>\n",
       "      <td>Trif</td>\n",
       "      <td>1375</td>\n",
       "      <td>Star-1</td>\n",
       "      <td>False</td>\n",
       "      <td>False</td>\n",
       "      <td>1</td>\n",
       "      <td>2</td>\n",
       "      <td>31</td>\n",
       "      <td>0</td>\n",
       "      <td>0</td>\n",
       "    </tr>\n",
       "    <tr>\n",
       "      <th>28</th>\n",
       "      <td>2022-05-02-21:07:05</td>\n",
       "      <td>Trif</td>\n",
       "      <td>1375</td>\n",
       "      <td>Star-1</td>\n",
       "      <td>False</td>\n",
       "      <td>False</td>\n",
       "      <td>2</td>\n",
       "      <td>6</td>\n",
       "      <td>64</td>\n",
       "      <td>2</td>\n",
       "      <td>12</td>\n",
       "    </tr>\n",
       "    <tr>\n",
       "      <th>29</th>\n",
       "      <td>2022-05-02-21:07:05</td>\n",
       "      <td>Trif</td>\n",
       "      <td>1375</td>\n",
       "      <td>Star-1</td>\n",
       "      <td>False</td>\n",
       "      <td>False</td>\n",
       "      <td>3</td>\n",
       "      <td>4</td>\n",
       "      <td>45</td>\n",
       "      <td>0</td>\n",
       "      <td>3</td>\n",
       "    </tr>\n",
       "    <tr>\n",
       "      <th>30</th>\n",
       "      <td>2022-05-02-21:14:48</td>\n",
       "      <td>Trif</td>\n",
       "      <td>1375</td>\n",
       "      <td>Moon-2</td>\n",
       "      <td>False</td>\n",
       "      <td>False</td>\n",
       "      <td>1</td>\n",
       "      <td>6</td>\n",
       "      <td>32</td>\n",
       "      <td>0</td>\n",
       "      <td>0</td>\n",
       "    </tr>\n",
       "    <tr>\n",
       "      <th>31</th>\n",
       "      <td>2022-05-02-21:14:48</td>\n",
       "      <td>Trif</td>\n",
       "      <td>1375</td>\n",
       "      <td>Moon-2</td>\n",
       "      <td>False</td>\n",
       "      <td>False</td>\n",
       "      <td>2</td>\n",
       "      <td>9</td>\n",
       "      <td>58</td>\n",
       "      <td>7</td>\n",
       "      <td>24</td>\n",
       "    </tr>\n",
       "    <tr>\n",
       "      <th>32</th>\n",
       "      <td>2022-05-02-21:14:48</td>\n",
       "      <td>Trif</td>\n",
       "      <td>1375</td>\n",
       "      <td>Moon-2</td>\n",
       "      <td>False</td>\n",
       "      <td>False</td>\n",
       "      <td>3</td>\n",
       "      <td>7</td>\n",
       "      <td>54</td>\n",
       "      <td>0</td>\n",
       "      <td>0</td>\n",
       "    </tr>\n",
       "    <tr>\n",
       "      <th>33</th>\n",
       "      <td>2022-05-02-21:22:28</td>\n",
       "      <td>Trif</td>\n",
       "      <td>1375</td>\n",
       "      <td>Moon-2</td>\n",
       "      <td>False</td>\n",
       "      <td>False</td>\n",
       "      <td>1</td>\n",
       "      <td>4</td>\n",
       "      <td>27</td>\n",
       "      <td>0</td>\n",
       "      <td>0</td>\n",
       "    </tr>\n",
       "    <tr>\n",
       "      <th>34</th>\n",
       "      <td>2022-05-02-21:22:28</td>\n",
       "      <td>Trif</td>\n",
       "      <td>1375</td>\n",
       "      <td>Moon-2</td>\n",
       "      <td>False</td>\n",
       "      <td>False</td>\n",
       "      <td>2</td>\n",
       "      <td>8</td>\n",
       "      <td>69</td>\n",
       "      <td>10</td>\n",
       "      <td>12</td>\n",
       "    </tr>\n",
       "    <tr>\n",
       "      <th>35</th>\n",
       "      <td>2022-05-02-21:22:28</td>\n",
       "      <td>Trif</td>\n",
       "      <td>1375</td>\n",
       "      <td>Moon-2</td>\n",
       "      <td>False</td>\n",
       "      <td>False</td>\n",
       "      <td>3</td>\n",
       "      <td>6</td>\n",
       "      <td>44</td>\n",
       "      <td>2</td>\n",
       "      <td>0</td>\n",
       "    </tr>\n",
       "    <tr>\n",
       "      <th>36</th>\n",
       "      <td>2022-05-02-21:29:26</td>\n",
       "      <td>Trif</td>\n",
       "      <td>1375</td>\n",
       "      <td>Moon-2</td>\n",
       "      <td>False</td>\n",
       "      <td>False</td>\n",
       "      <td>1</td>\n",
       "      <td>3</td>\n",
       "      <td>29</td>\n",
       "      <td>0</td>\n",
       "      <td>0</td>\n",
       "    </tr>\n",
       "    <tr>\n",
       "      <th>37</th>\n",
       "      <td>2022-05-02-21:29:26</td>\n",
       "      <td>Trif</td>\n",
       "      <td>1375</td>\n",
       "      <td>Moon-2</td>\n",
       "      <td>False</td>\n",
       "      <td>False</td>\n",
       "      <td>2</td>\n",
       "      <td>9</td>\n",
       "      <td>61</td>\n",
       "      <td>0</td>\n",
       "      <td>4</td>\n",
       "    </tr>\n",
       "    <tr>\n",
       "      <th>38</th>\n",
       "      <td>2022-05-02-21:29:26</td>\n",
       "      <td>Trif</td>\n",
       "      <td>1375</td>\n",
       "      <td>Moon-2</td>\n",
       "      <td>False</td>\n",
       "      <td>False</td>\n",
       "      <td>3</td>\n",
       "      <td>2</td>\n",
       "      <td>53</td>\n",
       "      <td>4</td>\n",
       "      <td>3</td>\n",
       "    </tr>\n",
       "    <tr>\n",
       "      <th>39</th>\n",
       "      <td>2022-05-02-21:36:41</td>\n",
       "      <td>Trif</td>\n",
       "      <td>1375</td>\n",
       "      <td>Moon-2</td>\n",
       "      <td>False</td>\n",
       "      <td>False</td>\n",
       "      <td>1</td>\n",
       "      <td>4</td>\n",
       "      <td>36</td>\n",
       "      <td>0</td>\n",
       "      <td>0</td>\n",
       "    </tr>\n",
       "    <tr>\n",
       "      <th>40</th>\n",
       "      <td>2022-05-02-21:36:41</td>\n",
       "      <td>Trif</td>\n",
       "      <td>1375</td>\n",
       "      <td>Moon-2</td>\n",
       "      <td>False</td>\n",
       "      <td>False</td>\n",
       "      <td>2</td>\n",
       "      <td>10</td>\n",
       "      <td>64</td>\n",
       "      <td>3</td>\n",
       "      <td>19</td>\n",
       "    </tr>\n",
       "    <tr>\n",
       "      <th>41</th>\n",
       "      <td>2022-05-02-21:36:41</td>\n",
       "      <td>Trif</td>\n",
       "      <td>1375</td>\n",
       "      <td>Moon-2</td>\n",
       "      <td>False</td>\n",
       "      <td>False</td>\n",
       "      <td>3</td>\n",
       "      <td>3</td>\n",
       "      <td>71</td>\n",
       "      <td>0</td>\n",
       "      <td>0</td>\n",
       "    </tr>\n",
       "    <tr>\n",
       "      <th>45</th>\n",
       "      <td>2022-05-02-21:53:45</td>\n",
       "      <td>Trif</td>\n",
       "      <td>1375</td>\n",
       "      <td>Moon-2</td>\n",
       "      <td>False</td>\n",
       "      <td>False</td>\n",
       "      <td>1</td>\n",
       "      <td>3</td>\n",
       "      <td>30</td>\n",
       "      <td>0</td>\n",
       "      <td>0</td>\n",
       "    </tr>\n",
       "    <tr>\n",
       "      <th>46</th>\n",
       "      <td>2022-05-02-21:53:45</td>\n",
       "      <td>Trif</td>\n",
       "      <td>1375</td>\n",
       "      <td>Moon-2</td>\n",
       "      <td>False</td>\n",
       "      <td>False</td>\n",
       "      <td>2</td>\n",
       "      <td>8</td>\n",
       "      <td>84</td>\n",
       "      <td>6</td>\n",
       "      <td>19</td>\n",
       "    </tr>\n",
       "    <tr>\n",
       "      <th>47</th>\n",
       "      <td>2022-05-02-21:53:45</td>\n",
       "      <td>Trif</td>\n",
       "      <td>1375</td>\n",
       "      <td>Moon-2</td>\n",
       "      <td>False</td>\n",
       "      <td>False</td>\n",
       "      <td>3</td>\n",
       "      <td>2</td>\n",
       "      <td>57</td>\n",
       "      <td>6</td>\n",
       "      <td>2</td>\n",
       "    </tr>\n",
       "  </tbody>\n",
       "</table>\n",
       "</div>"
      ],
      "text/plain": [
       "              timestamp character  ilvl dungeon  at_level  bonus_floor  floor  \\\n",
       "0   2022-05-02-18:02:35      Trif  1375   Sun-1      True        False      1   \n",
       "1   2022-05-02-18:02:35      Trif  1375   Sun-1      True        False      2   \n",
       "2   2022-05-02-18:02:35      Trif  1375   Sun-1      True        False      3   \n",
       "3   2022-05-02-18:09:16      Trif  1375   Sun-1      True        False      1   \n",
       "4   2022-05-02-18:09:16      Trif  1375   Sun-1      True        False      2   \n",
       "5   2022-05-02-18:09:16      Trif  1375   Sun-1      True        False      3   \n",
       "6   2022-05-02-18:24:47      Trif  1375   Sun-1      True        False      1   \n",
       "7   2022-05-02-18:24:47      Trif  1375   Sun-1      True        False      2   \n",
       "8   2022-05-02-18:24:47      Trif  1375   Sun-1      True        False      3   \n",
       "9   2022-05-02-18:33:50      Trif  1375   Sun-1      True        False      1   \n",
       "10  2022-05-02-18:33:50      Trif  1375   Sun-1      True        False      2   \n",
       "11  2022-05-02-18:33:50      Trif  1375   Sun-1      True        False      3   \n",
       "12  2022-05-02-18:40:44      Trif  1375   Sun-1      True        False      1   \n",
       "13  2022-05-02-18:40:44      Trif  1375   Sun-1      True        False      2   \n",
       "14  2022-05-02-18:40:44      Trif  1375   Sun-1      True        False      3   \n",
       "15  2022-05-02-20:42:36      Trif  1375  Star-1     False        False      1   \n",
       "16  2022-05-02-20:42:36      Trif  1375  Star-1     False        False      2   \n",
       "17  2022-05-02-20:42:36      Trif  1375  Star-1     False        False      3   \n",
       "18  2022-05-02-20:48:05      Trif  1375  Star-1     False        False      1   \n",
       "19  2022-05-02-20:48:05      Trif  1375  Star-1     False        False      2   \n",
       "20  2022-05-02-20:48:05      Trif  1375  Star-1     False        False      3   \n",
       "21  2022-05-02-20:54:48      Trif  1375  Star-1     False        False      1   \n",
       "22  2022-05-02-20:54:48      Trif  1375  Star-1     False        False      2   \n",
       "23  2022-05-02-20:54:48      Trif  1375  Star-1     False        False      3   \n",
       "24  2022-05-02-21:00:58      Trif  1375  Star-1     False        False      1   \n",
       "25  2022-05-02-21:00:58      Trif  1375  Star-1     False        False      2   \n",
       "26  2022-05-02-21:00:58      Trif  1375  Star-1     False        False      3   \n",
       "27  2022-05-02-21:07:05      Trif  1375  Star-1     False        False      1   \n",
       "28  2022-05-02-21:07:05      Trif  1375  Star-1     False        False      2   \n",
       "29  2022-05-02-21:07:05      Trif  1375  Star-1     False        False      3   \n",
       "30  2022-05-02-21:14:48      Trif  1375  Moon-2     False        False      1   \n",
       "31  2022-05-02-21:14:48      Trif  1375  Moon-2     False        False      2   \n",
       "32  2022-05-02-21:14:48      Trif  1375  Moon-2     False        False      3   \n",
       "33  2022-05-02-21:22:28      Trif  1375  Moon-2     False        False      1   \n",
       "34  2022-05-02-21:22:28      Trif  1375  Moon-2     False        False      2   \n",
       "35  2022-05-02-21:22:28      Trif  1375  Moon-2     False        False      3   \n",
       "36  2022-05-02-21:29:26      Trif  1375  Moon-2     False        False      1   \n",
       "37  2022-05-02-21:29:26      Trif  1375  Moon-2     False        False      2   \n",
       "38  2022-05-02-21:29:26      Trif  1375  Moon-2     False        False      3   \n",
       "39  2022-05-02-21:36:41      Trif  1375  Moon-2     False        False      1   \n",
       "40  2022-05-02-21:36:41      Trif  1375  Moon-2     False        False      2   \n",
       "41  2022-05-02-21:36:41      Trif  1375  Moon-2     False        False      3   \n",
       "45  2022-05-02-21:53:45      Trif  1375  Moon-2     False        False      1   \n",
       "46  2022-05-02-21:53:45      Trif  1375  Moon-2     False        False      2   \n",
       "47  2022-05-02-21:53:45      Trif  1375  Moon-2     False        False      3   \n",
       "\n",
       "    currency_orbs  currency_shards  red  blue  \n",
       "0               3               33    0     0  \n",
       "1              13               74    0    13  \n",
       "2               7               53    3     4  \n",
       "3               5               39    0     0  \n",
       "4               6               90    7    26  \n",
       "5               4               56    0     0  \n",
       "6               2               29    0     0  \n",
       "7               5               88    3    12  \n",
       "8               5               63    0     2  \n",
       "9               1               33    0     0  \n",
       "10              7               78    7    14  \n",
       "11              5               60    0    11  \n",
       "12              4               32    0     0  \n",
       "13             12               76   11    14  \n",
       "14              5               55    0     6  \n",
       "15              1               33    0     0  \n",
       "16             11               55    0    15  \n",
       "17              2               47    3     6  \n",
       "18              2               24    0     0  \n",
       "19              6               56    4    21  \n",
       "20              3               41    0     8  \n",
       "21              0               28    0     0  \n",
       "22              4               65    9    13  \n",
       "23              5               56    0     4  \n",
       "24              1               24    0     0  \n",
       "25              3               63    8    17  \n",
       "26              6               54    2     4  \n",
       "27              2               31    0     0  \n",
       "28              6               64    2    12  \n",
       "29              4               45    0     3  \n",
       "30              6               32    0     0  \n",
       "31              9               58    7    24  \n",
       "32              7               54    0     0  \n",
       "33              4               27    0     0  \n",
       "34              8               69   10    12  \n",
       "35              6               44    2     0  \n",
       "36              3               29    0     0  \n",
       "37              9               61    0     4  \n",
       "38              2               53    4     3  \n",
       "39              4               36    0     0  \n",
       "40             10               64    3    19  \n",
       "41              3               71    0     0  \n",
       "45              3               30    0     0  \n",
       "46              8               84    6    19  \n",
       "47              2               57    6     2  "
      ]
     },
     "execution_count": 98,
     "metadata": {},
     "output_type": "execute_result"
    }
   ],
   "source": [
    "cd_ig_history = pd.read_csv('app/data/histories/cd_ig.csv')\n",
    "cd_ig_history = cd_ig_history[cd_ig_history.bonus_floor == False]\n",
    "cd_ig_history"
   ]
  },
  {
   "cell_type": "code",
   "execution_count": 94,
   "metadata": {},
   "outputs": [
    {
     "data": {
      "text/plain": [
       "<AxesSubplot:xlabel='floor', ylabel='currency_shards'>"
      ]
     },
     "execution_count": 94,
     "metadata": {},
     "output_type": "execute_result"
    },
    {
     "data": {
      "image/png": "[encoded data removed]",
      "text/plain": [
       "<Figure size 432x288 with 1 Axes>"
      ]
     },
     "metadata": {
      "needs_background": "light"
     },
     "output_type": "display_data"
    }
   ],
   "source": [
    "sb.boxplot(\n",
    "    data=cd_ig_history,\n",
    "    x='floor',\n",
    "    y='currency_shards',\n",
    "    hue='dungeon',\n",
    "    hue_order=('Star-1', 'Moon-2', 'Sun-1')\n",
    ")"
   ]
  },
  {
   "cell_type": "code",
   "execution_count": 106,
   "metadata": {},
   "outputs": [
    {
     "data": {
      "text/plain": [
       "<AxesSubplot:xlabel='floor', ylabel='currency_shards'>"
      ]
     },
     "execution_count": 106,
     "metadata": {},
     "output_type": "execute_result"
    },
    {
     "data": {
      "image/png": "[encoded data removed]",
      "text/plain": [
       "<Figure size 432x288 with 1 Axes>"
      ]
     },
     "metadata": {
      "needs_background": "light"
     },
     "output_type": "display_data"
    }
   ],
   "source": [
    "sb.boxplot(\n",
    "    data=cd_ig_history.query('at_level == True'),\n",
    "    x='floor',\n",
    "    y='currency_shards',\n",
    ")"
   ]
  },
  {
   "cell_type": "code",
   "execution_count": 113,
   "metadata": {},
   "outputs": [
    {
     "data": {
      "text/html": [
       "<div>\n",
       "<style scoped>\n",
       "    .dataframe tbody tr th:only-of-type {\n",
       "        vertical-align: middle;\n",
       "    }\n",
       "\n",
       "    .dataframe tbody tr th {\n",
       "        vertical-align: top;\n",
       "    }\n",
       "\n",
       "    .dataframe thead th {\n",
       "        text-align: right;\n",
       "    }\n",
       "</style>\n",
       "<table border=\"1\" class=\"dataframe\">\n",
       "  <thead>\n",
       "    <tr style=\"text-align: right;\">\n",
       "      <th></th>\n",
       "      <th>floor</th>\n",
       "      <th>1</th>\n",
       "      <th>2</th>\n",
       "      <th>3</th>\n",
       "    </tr>\n",
       "  </thead>\n",
       "  <tbody>\n",
       "    <tr>\n",
       "      <th rowspan=\"6\" valign=\"top\">currency_orbs</th>\n",
       "      <th>count</th>\n",
       "      <td>5.000000</td>\n",
       "      <td>5.000000</td>\n",
       "      <td>5.000000</td>\n",
       "    </tr>\n",
       "    <tr>\n",
       "      <th>mean</th>\n",
       "      <td>3.000000</td>\n",
       "      <td>8.600000</td>\n",
       "      <td>5.200000</td>\n",
       "    </tr>\n",
       "    <tr>\n",
       "      <th>std</th>\n",
       "      <td>1.581139</td>\n",
       "      <td>3.646917</td>\n",
       "      <td>1.095445</td>\n",
       "    </tr>\n",
       "    <tr>\n",
       "      <th>min</th>\n",
       "      <td>1.000000</td>\n",
       "      <td>5.000000</td>\n",
       "      <td>4.000000</td>\n",
       "    </tr>\n",
       "    <tr>\n",
       "      <th>50%</th>\n",
       "      <td>3.000000</td>\n",
       "      <td>7.000000</td>\n",
       "      <td>5.000000</td>\n",
       "    </tr>\n",
       "    <tr>\n",
       "      <th>max</th>\n",
       "      <td>5.000000</td>\n",
       "      <td>13.000000</td>\n",
       "      <td>7.000000</td>\n",
       "    </tr>\n",
       "    <tr>\n",
       "      <th rowspan=\"6\" valign=\"top\">currency_shards</th>\n",
       "      <th>count</th>\n",
       "      <td>5.000000</td>\n",
       "      <td>5.000000</td>\n",
       "      <td>5.000000</td>\n",
       "    </tr>\n",
       "    <tr>\n",
       "      <th>mean</th>\n",
       "      <td>33.200000</td>\n",
       "      <td>81.200000</td>\n",
       "      <td>57.400000</td>\n",
       "    </tr>\n",
       "    <tr>\n",
       "      <th>std</th>\n",
       "      <td>3.633180</td>\n",
       "      <td>7.293833</td>\n",
       "      <td>4.037326</td>\n",
       "    </tr>\n",
       "    <tr>\n",
       "      <th>min</th>\n",
       "      <td>29.000000</td>\n",
       "      <td>74.000000</td>\n",
       "      <td>53.000000</td>\n",
       "    </tr>\n",
       "    <tr>\n",
       "      <th>50%</th>\n",
       "      <td>33.000000</td>\n",
       "      <td>78.000000</td>\n",
       "      <td>56.000000</td>\n",
       "    </tr>\n",
       "    <tr>\n",
       "      <th>max</th>\n",
       "      <td>39.000000</td>\n",
       "      <td>90.000000</td>\n",
       "      <td>63.000000</td>\n",
       "    </tr>\n",
       "    <tr>\n",
       "      <th rowspan=\"6\" valign=\"top\">red</th>\n",
       "      <th>count</th>\n",
       "      <td>5.000000</td>\n",
       "      <td>5.000000</td>\n",
       "      <td>5.000000</td>\n",
       "    </tr>\n",
       "    <tr>\n",
       "      <th>mean</th>\n",
       "      <td>0.000000</td>\n",
       "      <td>5.600000</td>\n",
       "      <td>0.600000</td>\n",
       "    </tr>\n",
       "    <tr>\n",
       "      <th>std</th>\n",
       "      <td>0.000000</td>\n",
       "      <td>4.219005</td>\n",
       "      <td>1.341641</td>\n",
       "    </tr>\n",
       "    <tr>\n",
       "      <th>min</th>\n",
       "      <td>0.000000</td>\n",
       "      <td>0.000000</td>\n",
       "      <td>0.000000</td>\n",
       "    </tr>\n",
       "    <tr>\n",
       "      <th>50%</th>\n",
       "      <td>0.000000</td>\n",
       "      <td>7.000000</td>\n",
       "      <td>0.000000</td>\n",
       "    </tr>\n",
       "    <tr>\n",
       "      <th>max</th>\n",
       "      <td>0.000000</td>\n",
       "      <td>11.000000</td>\n",
       "      <td>3.000000</td>\n",
       "    </tr>\n",
       "    <tr>\n",
       "      <th rowspan=\"6\" valign=\"top\">blue</th>\n",
       "      <th>count</th>\n",
       "      <td>5.000000</td>\n",
       "      <td>5.000000</td>\n",
       "      <td>5.000000</td>\n",
       "    </tr>\n",
       "    <tr>\n",
       "      <th>mean</th>\n",
       "      <td>0.000000</td>\n",
       "      <td>15.800000</td>\n",
       "      <td>4.600000</td>\n",
       "    </tr>\n",
       "    <tr>\n",
       "      <th>std</th>\n",
       "      <td>0.000000</td>\n",
       "      <td>5.761944</td>\n",
       "      <td>4.219005</td>\n",
       "    </tr>\n",
       "    <tr>\n",
       "      <th>min</th>\n",
       "      <td>0.000000</td>\n",
       "      <td>12.000000</td>\n",
       "      <td>0.000000</td>\n",
       "    </tr>\n",
       "    <tr>\n",
       "      <th>50%</th>\n",
       "      <td>0.000000</td>\n",
       "      <td>14.000000</td>\n",
       "      <td>4.000000</td>\n",
       "    </tr>\n",
       "    <tr>\n",
       "      <th>max</th>\n",
       "      <td>0.000000</td>\n",
       "      <td>26.000000</td>\n",
       "      <td>11.000000</td>\n",
       "    </tr>\n",
       "  </tbody>\n",
       "</table>\n",
       "</div>"
      ],
      "text/plain": [
       "floor                          1          2          3\n",
       "currency_orbs   count   5.000000   5.000000   5.000000\n",
       "                mean    3.000000   8.600000   5.200000\n",
       "                std     1.581139   3.646917   1.095445\n",
       "                min     1.000000   5.000000   4.000000\n",
       "                50%     3.000000   7.000000   5.000000\n",
       "                max     5.000000  13.000000   7.000000\n",
       "currency_shards count   5.000000   5.000000   5.000000\n",
       "                mean   33.200000  81.200000  57.400000\n",
       "                std     3.633180   7.293833   4.037326\n",
       "                min    29.000000  74.000000  53.000000\n",
       "                50%    33.000000  78.000000  56.000000\n",
       "                max    39.000000  90.000000  63.000000\n",
       "red             count   5.000000   5.000000   5.000000\n",
       "                mean    0.000000   5.600000   0.600000\n",
       "                std     0.000000   4.219005   1.341641\n",
       "                min     0.000000   0.000000   0.000000\n",
       "                50%     0.000000   7.000000   0.000000\n",
       "                max     0.000000  11.000000   3.000000\n",
       "blue            count   5.000000   5.000000   5.000000\n",
       "                mean    0.000000  15.800000   4.600000\n",
       "                std     0.000000   5.761944   4.219005\n",
       "                min     0.000000  12.000000   0.000000\n",
       "                50%     0.000000  14.000000   4.000000\n",
       "                max     0.000000  26.000000  11.000000"
      ]
     },
     "execution_count": 113,
     "metadata": {},
     "output_type": "execute_result"
    }
   ],
   "source": [
    "(\n",
    "    cd_ig_history\n",
    "    .query('at_level == True')\n",
    "    .drop('ilvl', axis=1)\n",
    "    .groupby('floor')\n",
    "    .describe(percentiles=[0.5])\n",
    "    .T\n",
    ")"
   ]
  },
  {
   "cell_type": "code",
   "execution_count": 95,
   "metadata": {},
   "outputs": [
    {
     "data": {
      "text/plain": [
       "<AxesSubplot:xlabel='floor', ylabel='currency_orbs'>"
      ]
     },
     "execution_count": 95,
     "metadata": {},
     "output_type": "execute_result"
    },
    {
     "data": {
      "image/png": "[encoded data removed]",
      "text/plain": [
       "<Figure size 432x288 with 1 Axes>"
      ]
     },
     "metadata": {
      "needs_background": "light"
     },
     "output_type": "display_data"
    }
   ],
   "source": [
    "sb.boxplot(\n",
    "    data=cd_ig_history,\n",
    "    x='floor',\n",
    "    y='currency_orbs',\n",
    "    hue='dungeon',\n",
    "    hue_order=('Star-1', 'Moon-2', 'Sun-1')\n",
    ")"
   ]
  },
  {
   "cell_type": "code",
   "execution_count": 96,
   "metadata": {},
   "outputs": [
    {
     "data": {
      "text/plain": [
       "<AxesSubplot:xlabel='floor', ylabel='red'>"
      ]
     },
     "execution_count": 96,
     "metadata": {},
     "output_type": "execute_result"
    },
    {
     "data": {
      "image/png": "[encoded data removed]",
      "text/plain": [
       "<Figure size 432x288 with 1 Axes>"
      ]
     },
     "metadata": {
      "needs_background": "light"
     },
     "output_type": "display_data"
    }
   ],
   "source": [
    "sb.boxplot(\n",
    "    data=cd_ig_history,\n",
    "    x='floor',\n",
    "    y='red',\n",
    "    hue='dungeon',\n",
    "    hue_order=('Star-1', 'Moon-2', 'Sun-1')\n",
    ")"
   ]
  },
  {
   "cell_type": "code",
   "execution_count": 97,
   "metadata": {},
   "outputs": [
    {
     "data": {
      "text/plain": [
       "<AxesSubplot:xlabel='floor', ylabel='blue'>"
      ]
     },
     "execution_count": 97,
     "metadata": {},
     "output_type": "execute_result"
    },
    {
     "data": {
      "image/png": "[encoded data removed]",
      "text/plain": [
       "<Figure size 432x288 with 1 Axes>"
      ]
     },
     "metadata": {
      "needs_background": "light"
     },
     "output_type": "display_data"
    }
   ],
   "source": [
    "sb.boxplot(\n",
    "    data=cd_ig_history,\n",
    "    x='floor',\n",
    "    y='blue',\n",
    "    hue='dungeon',\n",
    "    hue_order=('Star-1', 'Moon-2', 'Sun-1')\n",
    ")"
   ]
  },
  {
   "cell_type": "code",
   "execution_count": null,
   "metadata": {},
   "outputs": [],
   "source": []
  },
  {
   "cell_type": "code",
   "execution_count": null,
   "metadata": {},
   "outputs": [],
   "source": []
  }
 ],
 "metadata": {
  "interpreter": {
   "hash": "4b3172ac68eff8cba11acca343ad2151d3112e355cabb85beb787e615e521d80"
  },
  "kernelspec": {
   "display_name": "Python 3.10.4 64-bit",
   "language": "python",
   "name": "python3"
  },
  "language_info": {
   "codemirror_mode": {
    "name": "ipython",
    "version": 3
   },
   "file_extension": ".py",
   "mimetype": "text/x-python",
   "name": "python",
   "nbconvert_exporter": "python",
   "pygments_lexer": "ipython3",
   "version": "3.10.4"
  },
  "orig_nbformat": 4
 },
 "nbformat": 4,
 "nbformat_minor": 2
}
