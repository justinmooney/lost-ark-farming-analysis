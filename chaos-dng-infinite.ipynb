{
 "cells": [
  {
   "cell_type": "code",
   "execution_count": 47,
   "metadata": {},
   "outputs": [],
   "source": [
    "import pandas as pd\n",
    "import seaborn as sb\n",
    "import matplotlib.pyplot as plt"
   ]
  },
  {
   "cell_type": "markdown",
   "metadata": {},
   "source": [
    "# Chaos Dungeon Infinite Grind\n",
    "For this investigation I did 5 replications at each dungeon level for tier 3 chaos dungeons at Star-1 (lowest T3), Sun-1 (max for me at 1375), and Moon-2 (mid-way between minimum and maximum) using my Ignite Sorceress. I collected data at the end of each floor for orbs and shards (infinite grind currencies), red and blue stone drops, and whether or not I got a bonus floor (treasure/boss). For each floor I cleared all packs and bosses (floor 2) before taking the portal.\n",
    "\n",
    "Given differing clear times for different classes/loadouts and variance in boss spawn times/locations on floor 2 I didn't bother trying to time the runs. Any references to clear time are anecdotal based on my experience.\n",
    "\n",
    "Since the names of the currencies differ at each tier I have simply called them `orbs` and `shards`. I think its clear which is which."
   ]
  },
  {
   "cell_type": "code",
   "execution_count": 76,
   "metadata": {},
   "outputs": [
    {
     "data": {
      "text/html": [
       "<div>\n",
       "<style scoped>\n",
       "    .dataframe tbody tr th:only-of-type {\n",
       "        vertical-align: middle;\n",
       "    }\n",
       "\n",
       "    .dataframe tbody tr th {\n",
       "        vertical-align: top;\n",
       "    }\n",
       "\n",
       "    .dataframe thead th {\n",
       "        text-align: right;\n",
       "    }\n",
       "</style>\n",
       "<table border=\"1\" class=\"dataframe\">\n",
       "  <thead>\n",
       "    <tr style=\"text-align: right;\">\n",
       "      <th></th>\n",
       "      <th>timestamp</th>\n",
       "      <th>character</th>\n",
       "      <th>ilvl</th>\n",
       "      <th>dungeon</th>\n",
       "      <th>at_level</th>\n",
       "      <th>bonus_floor</th>\n",
       "      <th>floor</th>\n",
       "      <th>currency_orbs</th>\n",
       "      <th>currency_shards</th>\n",
       "      <th>red</th>\n",
       "      <th>blue</th>\n",
       "    </tr>\n",
       "  </thead>\n",
       "  <tbody>\n",
       "    <tr>\n",
       "      <th>0</th>\n",
       "      <td>2022-05-02-18:02:35</td>\n",
       "      <td>Trif</td>\n",
       "      <td>1375</td>\n",
       "      <td>Sun-1</td>\n",
       "      <td>True</td>\n",
       "      <td>False</td>\n",
       "      <td>1</td>\n",
       "      <td>3</td>\n",
       "      <td>33</td>\n",
       "      <td>0</td>\n",
       "      <td>0</td>\n",
       "    </tr>\n",
       "    <tr>\n",
       "      <th>1</th>\n",
       "      <td>2022-05-02-18:02:35</td>\n",
       "      <td>Trif</td>\n",
       "      <td>1375</td>\n",
       "      <td>Sun-1</td>\n",
       "      <td>True</td>\n",
       "      <td>False</td>\n",
       "      <td>2</td>\n",
       "      <td>13</td>\n",
       "      <td>74</td>\n",
       "      <td>0</td>\n",
       "      <td>13</td>\n",
       "    </tr>\n",
       "    <tr>\n",
       "      <th>2</th>\n",
       "      <td>2022-05-02-18:02:35</td>\n",
       "      <td>Trif</td>\n",
       "      <td>1375</td>\n",
       "      <td>Sun-1</td>\n",
       "      <td>True</td>\n",
       "      <td>False</td>\n",
       "      <td>3</td>\n",
       "      <td>7</td>\n",
       "      <td>53</td>\n",
       "      <td>3</td>\n",
       "      <td>4</td>\n",
       "    </tr>\n",
       "    <tr>\n",
       "      <th>3</th>\n",
       "      <td>2022-05-02-18:09:16</td>\n",
       "      <td>Trif</td>\n",
       "      <td>1375</td>\n",
       "      <td>Sun-1</td>\n",
       "      <td>True</td>\n",
       "      <td>False</td>\n",
       "      <td>1</td>\n",
       "      <td>5</td>\n",
       "      <td>39</td>\n",
       "      <td>0</td>\n",
       "      <td>0</td>\n",
       "    </tr>\n",
       "    <tr>\n",
       "      <th>4</th>\n",
       "      <td>2022-05-02-18:09:16</td>\n",
       "      <td>Trif</td>\n",
       "      <td>1375</td>\n",
       "      <td>Sun-1</td>\n",
       "      <td>True</td>\n",
       "      <td>False</td>\n",
       "      <td>2</td>\n",
       "      <td>6</td>\n",
       "      <td>90</td>\n",
       "      <td>7</td>\n",
       "      <td>26</td>\n",
       "    </tr>\n",
       "  </tbody>\n",
       "</table>\n",
       "</div>"
      ],
      "text/plain": [
       "             timestamp character  ilvl dungeon  at_level  bonus_floor  floor  \\\n",
       "0  2022-05-02-18:02:35      Trif  1375   Sun-1      True        False      1   \n",
       "1  2022-05-02-18:02:35      Trif  1375   Sun-1      True        False      2   \n",
       "2  2022-05-02-18:02:35      Trif  1375   Sun-1      True        False      3   \n",
       "3  2022-05-02-18:09:16      Trif  1375   Sun-1      True        False      1   \n",
       "4  2022-05-02-18:09:16      Trif  1375   Sun-1      True        False      2   \n",
       "\n",
       "   currency_orbs  currency_shards  red  blue  \n",
       "0              3               33    0     0  \n",
       "1             13               74    0    13  \n",
       "2              7               53    3     4  \n",
       "3              5               39    0     0  \n",
       "4              6               90    7    26  "
      ]
     },
     "execution_count": 76,
     "metadata": {},
     "output_type": "execute_result"
    }
   ],
   "source": [
    "df = pd.read_csv('histories/cd_ig.csv')\n",
    "df.head()"
   ]
  },
  {
   "cell_type": "markdown",
   "metadata": {},
   "source": [
    "During the data collection I only  popped a bonus floor once so I'll ignore this for now. In my experience these are rare enough to not worry about overall. From the one data point I have the bonus floor (I think it was a boss floor) appeared to drop a relatively large number of orbs. Shard drops were within the expected range, but above the mean so potentially higher as well."
   ]
  },
  {
   "cell_type": "code",
   "execution_count": 77,
   "metadata": {},
   "outputs": [
    {
     "data": {
      "image/png": "[encoded data removed]",
      "text/plain": [
       "<Figure size 864x288 with 2 Axes>"
      ]
     },
     "metadata": {
      "needs_background": "light"
     },
     "output_type": "display_data"
    }
   ],
   "source": [
    "fig, (ax1, ax2) = plt.subplots(nrows=1, ncols=2, figsize=(12, 4))\n",
    "\n",
    "sb.boxplot(\n",
    "    data=df.query('dungeon == \"Moon-2\" & floor == 2'),\n",
    "    x='bonus_floor',\n",
    "    y='currency_orbs',\n",
    "    ax=ax1,\n",
    ")\n",
    "\n",
    "sb.boxplot(\n",
    "    data=df.query('dungeon == \"Moon-2\" & floor == 2'),\n",
    "    x='bonus_floor',\n",
    "    y='currency_shards',\n",
    "    ax=ax2,\n",
    ")\n",
    "\n",
    "fig.tight_layout()"
   ]
  },
  {
   "cell_type": "markdown",
   "metadata": {},
   "source": [
    "The number of red/blue stones dropped per run is fairly insignificant in comparison to honing costs so I'll ignore those as well."
   ]
  },
  {
   "cell_type": "code",
   "execution_count": 78,
   "metadata": {},
   "outputs": [
    {
     "data": {
      "text/html": [
       "<div>\n",
       "<style scoped>\n",
       "    .dataframe tbody tr th:only-of-type {\n",
       "        vertical-align: middle;\n",
       "    }\n",
       "\n",
       "    .dataframe tbody tr th {\n",
       "        vertical-align: top;\n",
       "    }\n",
       "\n",
       "    .dataframe thead th {\n",
       "        text-align: right;\n",
       "    }\n",
       "</style>\n",
       "<table border=\"1\" class=\"dataframe\">\n",
       "  <thead>\n",
       "    <tr style=\"text-align: right;\">\n",
       "      <th></th>\n",
       "      <th>timestamp</th>\n",
       "      <th>dungeon</th>\n",
       "      <th>at_level</th>\n",
       "      <th>floor</th>\n",
       "      <th>currency_orbs</th>\n",
       "      <th>currency_shards</th>\n",
       "    </tr>\n",
       "  </thead>\n",
       "  <tbody>\n",
       "    <tr>\n",
       "      <th>0</th>\n",
       "      <td>2022-05-02-18:02:35</td>\n",
       "      <td>Sun-1</td>\n",
       "      <td>True</td>\n",
       "      <td>1</td>\n",
       "      <td>3</td>\n",
       "      <td>33</td>\n",
       "    </tr>\n",
       "    <tr>\n",
       "      <th>1</th>\n",
       "      <td>2022-05-02-18:02:35</td>\n",
       "      <td>Sun-1</td>\n",
       "      <td>True</td>\n",
       "      <td>2</td>\n",
       "      <td>13</td>\n",
       "      <td>74</td>\n",
       "    </tr>\n",
       "    <tr>\n",
       "      <th>2</th>\n",
       "      <td>2022-05-02-18:02:35</td>\n",
       "      <td>Sun-1</td>\n",
       "      <td>True</td>\n",
       "      <td>3</td>\n",
       "      <td>7</td>\n",
       "      <td>53</td>\n",
       "    </tr>\n",
       "    <tr>\n",
       "      <th>3</th>\n",
       "      <td>2022-05-02-18:09:16</td>\n",
       "      <td>Sun-1</td>\n",
       "      <td>True</td>\n",
       "      <td>1</td>\n",
       "      <td>5</td>\n",
       "      <td>39</td>\n",
       "    </tr>\n",
       "    <tr>\n",
       "      <th>4</th>\n",
       "      <td>2022-05-02-18:09:16</td>\n",
       "      <td>Sun-1</td>\n",
       "      <td>True</td>\n",
       "      <td>2</td>\n",
       "      <td>6</td>\n",
       "      <td>90</td>\n",
       "    </tr>\n",
       "  </tbody>\n",
       "</table>\n",
       "</div>"
      ],
      "text/plain": [
       "             timestamp dungeon  at_level  floor  currency_orbs  \\\n",
       "0  2022-05-02-18:02:35   Sun-1      True      1              3   \n",
       "1  2022-05-02-18:02:35   Sun-1      True      2             13   \n",
       "2  2022-05-02-18:02:35   Sun-1      True      3              7   \n",
       "3  2022-05-02-18:09:16   Sun-1      True      1              5   \n",
       "4  2022-05-02-18:09:16   Sun-1      True      2              6   \n",
       "\n",
       "   currency_shards  \n",
       "0               33  \n",
       "1               74  \n",
       "2               53  \n",
       "3               39  \n",
       "4               90  "
      ]
     },
     "execution_count": 78,
     "metadata": {},
     "output_type": "execute_result"
    }
   ],
   "source": [
    "df = (\n",
    "    df\n",
    "    .query('bonus_floor == False')\n",
    "    .drop(['character', 'ilvl', 'bonus_floor', 'red', 'blue'], axis=1)\n",
    ")\n",
    "df.head()"
   ]
  },
  {
   "cell_type": "markdown",
   "metadata": {},
   "source": [
    "## Comparison of At-Level vs Lower-Level Runs"
   ]
  },
  {
   "cell_type": "code",
   "execution_count": 79,
   "metadata": {},
   "outputs": [
    {
     "data": {
      "image/png": "[encoded data removed]",
      "text/plain": [
       "<Figure size 864x288 with 2 Axes>"
      ]
     },
     "metadata": {
      "needs_background": "light"
     },
     "output_type": "display_data"
    }
   ],
   "source": [
    "fig, (ax1, ax2) = plt.subplots(nrows=1, ncols=2, figsize=(12, 4))\n",
    "\n",
    "sb.boxplot(\n",
    "    data=df,\n",
    "    x='floor',\n",
    "    y='currency_shards',\n",
    "    hue='dungeon',\n",
    "    hue_order=('Star-1', 'Moon-2', 'Sun-1'),\n",
    "    ax=ax1,\n",
    ")\n",
    "\n",
    "sb.boxplot(\n",
    "    data=df,\n",
    "    x='floor',\n",
    "    y='currency_orbs',\n",
    "    hue='dungeon',\n",
    "    hue_order=('Star-1', 'Moon-2', 'Sun-1'),\n",
    "    ax=ax2,\n",
    ")\n",
    "\n",
    "fig.tight_layout()"
   ]
  },
  {
   "cell_type": "markdown",
   "metadata": {},
   "source": [
    "From the below plot it is clear that for shard drops on floors 1 and 3 the difference is relatively small (although clearly increase with dungeon level) but for floor 2 the mean difference is quite large, with the at-level dungeon giving significantly more reward. However, there is fairly high variance in the drops from floor 2 so I'd like to collect more data here to be sure about this. Differences for orbs are less drastic but still show a similar trend. Again, more data is needed to make a definite determination. I'm not a big fan of p-values so I'll skip a formal difference in means test. The visualization is clear enough."
   ]
  },
  {
   "cell_type": "markdown",
   "metadata": {},
   "source": [
    "# 2-Floors vs 3-Floors Strategy\n",
    "\n",
    "Looking at drops for floors 1-2 vs all 3 for both currencies shows that while floor 2 provides approximately half of the total rewards for the run, the remaining half is not evenly split between floors 1 and 3, with floor 3 dropping nearly twice the rewards of 1. This puts a full third of the rewards on floor 3. "
   ]
  },
  {
   "cell_type": "code",
   "execution_count": 68,
   "metadata": {},
   "outputs": [
    {
     "data": {
      "image/png": "[encoded data removed]",
      "text/plain": [
       "<Figure size 864x288 with 2 Axes>"
      ]
     },
     "metadata": {
      "needs_background": "light"
     },
     "output_type": "display_data"
    }
   ],
   "source": [
    "fig, (ax1, ax2) = plt.subplots(nrows=1, ncols=2, figsize=(12, 4))\n",
    "\n",
    "sb.boxplot(\n",
    "    data=df.query('at_level == True'),\n",
    "    x='floor',\n",
    "    y='currency_shards',\n",
    "    ax=ax1,\n",
    ")\n",
    "\n",
    "sb.boxplot(\n",
    "    data=df.query('at_level == True'),\n",
    "    x='floor',\n",
    "    y='currency_orbs',\n",
    "    ax=ax2,\n",
    ")\n",
    "\n",
    "plt.tight_layout()"
   ]
  },
  {
   "cell_type": "code",
   "execution_count": 56,
   "metadata": {},
   "outputs": [
    {
     "data": {
      "text/html": [
       "<div>\n",
       "<style scoped>\n",
       "    .dataframe tbody tr th:only-of-type {\n",
       "        vertical-align: middle;\n",
       "    }\n",
       "\n",
       "    .dataframe tbody tr th {\n",
       "        vertical-align: top;\n",
       "    }\n",
       "\n",
       "    .dataframe thead th {\n",
       "        text-align: right;\n",
       "    }\n",
       "</style>\n",
       "<table border=\"1\" class=\"dataframe\">\n",
       "  <thead>\n",
       "    <tr style=\"text-align: right;\">\n",
       "      <th></th>\n",
       "      <th>currency_orbs</th>\n",
       "      <th>currency_shards</th>\n",
       "    </tr>\n",
       "    <tr>\n",
       "      <th>floor</th>\n",
       "      <th></th>\n",
       "      <th></th>\n",
       "    </tr>\n",
       "  </thead>\n",
       "  <tbody>\n",
       "    <tr>\n",
       "      <th>1</th>\n",
       "      <td>3.0</td>\n",
       "      <td>33.2</td>\n",
       "    </tr>\n",
       "    <tr>\n",
       "      <th>2</th>\n",
       "      <td>8.6</td>\n",
       "      <td>81.2</td>\n",
       "    </tr>\n",
       "    <tr>\n",
       "      <th>3</th>\n",
       "      <td>5.2</td>\n",
       "      <td>57.4</td>\n",
       "    </tr>\n",
       "  </tbody>\n",
       "</table>\n",
       "</div>"
      ],
      "text/plain": [
       "       currency_orbs  currency_shards\n",
       "floor                                \n",
       "1                3.0             33.2\n",
       "2                8.6             81.2\n",
       "3                5.2             57.4"
      ]
     },
     "execution_count": 56,
     "metadata": {},
     "output_type": "execute_result"
    }
   ],
   "source": [
    "floor_means = (\n",
    "    df\n",
    "    .query('at_level == True')\n",
    "    .drop(['at_level'], axis=1)\n",
    "    .groupby('floor')\n",
    "    .mean()\n",
    ")\n",
    "floor_means"
   ]
  },
  {
   "cell_type": "code",
   "execution_count": 61,
   "metadata": {},
   "outputs": [
    {
     "data": {
      "text/html": [
       "<div>\n",
       "<style scoped>\n",
       "    .dataframe tbody tr th:only-of-type {\n",
       "        vertical-align: middle;\n",
       "    }\n",
       "\n",
       "    .dataframe tbody tr th {\n",
       "        vertical-align: top;\n",
       "    }\n",
       "\n",
       "    .dataframe thead th {\n",
       "        text-align: right;\n",
       "    }\n",
       "</style>\n",
       "<table border=\"1\" class=\"dataframe\">\n",
       "  <thead>\n",
       "    <tr style=\"text-align: right;\">\n",
       "      <th></th>\n",
       "      <th>currency_orbs</th>\n",
       "      <th>currency_shards</th>\n",
       "    </tr>\n",
       "    <tr>\n",
       "      <th>floor</th>\n",
       "      <th></th>\n",
       "      <th></th>\n",
       "    </tr>\n",
       "  </thead>\n",
       "  <tbody>\n",
       "    <tr>\n",
       "      <th>1</th>\n",
       "      <td>0.178571</td>\n",
       "      <td>0.193248</td>\n",
       "    </tr>\n",
       "    <tr>\n",
       "      <th>2</th>\n",
       "      <td>0.511905</td>\n",
       "      <td>0.472643</td>\n",
       "    </tr>\n",
       "    <tr>\n",
       "      <th>3</th>\n",
       "      <td>0.309524</td>\n",
       "      <td>0.334109</td>\n",
       "    </tr>\n",
       "  </tbody>\n",
       "</table>\n",
       "</div>"
      ],
      "text/plain": [
       "       currency_orbs  currency_shards\n",
       "floor                                \n",
       "1           0.178571         0.193248\n",
       "2           0.511905         0.472643\n",
       "3           0.309524         0.334109"
      ]
     },
     "execution_count": 61,
     "metadata": {},
     "output_type": "execute_result"
    }
   ],
   "source": [
    "floor_means / floor_means.sum()"
   ]
  },
  {
   "cell_type": "markdown",
   "metadata": {},
   "source": [
    "# Conclusions\n",
    "While lower-level dungeons are \"easier\" and therefore take less engagement/time, the difference (for me) isn't enough to make it worth the potential loss of rewards. For support classes this might be a favorable strategy given the lower clear time, but a well-spec'd DPS class the time difference is negligible (mostly spent on final floor 2 boss). Given the high variance (particularly for floor 2), 5 replications isn't really enough to make a definite determination on the exact gain per dungeon level but doing a larger data collection would be fairly tedious.\n",
    "\n",
    "Additionally, the time investment for floor 3 definitely seems worth it, especially since skipping floor 3 requires a full exit and re-entry where completing floor 3 lets you immediately queue into the next one. Another consideration is that skipping floor 3 you dont get the additional ending bonuses (silver, xp, card xp) which, although small, add up over time given the number of dungeons you'll run doing this."
   ]
  }
 ],
 "metadata": {
  "interpreter": {
   "hash": "7688d1dadf5465f5621eeb4d38a2624ccf6329f96941f26bc2bb25440c7b84fa"
  },
  "kernelspec": {
   "display_name": "Python 3.10.4 64-bit",
   "language": "python",
   "name": "python3"
  },
  "language_info": {
   "codemirror_mode": {
    "name": "ipython",
    "version": 3
   },
   "file_extension": ".py",
   "mimetype": "text/x-python",
   "name": "python",
   "nbconvert_exporter": "python",
   "pygments_lexer": "ipython3",
   "version": "3.10.4"
  },
  "orig_nbformat": 4
 },
 "nbformat": 4,
 "nbformat_minor": 2
}
